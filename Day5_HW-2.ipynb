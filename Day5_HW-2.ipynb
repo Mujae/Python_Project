{
  "nbformat": 4,
  "nbformat_minor": 0,
  "metadata": {
    "colab": {
      "provenance": [],
      "gpuType": "T4"
    },
    "kernelspec": {
      "name": "python3",
      "display_name": "Python 3"
    },
    "language_info": {
      "name": "python"
    },
    "accelerator": "GPU"
  },
  "cells": [
    {
      "cell_type": "markdown",
      "source": [
        "# Regression => RMSE, MAE, R^2\n",
        "```\n",
        "VMI_data.xls\n",
        "```\n",
        "- index : \"Part Number\"\n",
        "- columns : \"Cret_TIME\"\n",
        "- values : \"D일 투입 예정 수량 (D일 계획)"
      ],
      "metadata": {
        "id": "lbx6bcaRlexF"
      }
    },
    {
      "cell_type": "markdown",
      "source": [
        "## 1. 라이브러리 & 데이터 불러오기"
      ],
      "metadata": {
        "id": "ztGTSwG1mIot"
      }
    },
    {
      "cell_type": "code",
      "source": [
        "from google.colab import drive\n",
        "drive.mount('/content/drive')"
      ],
      "metadata": {
        "colab": {
          "base_uri": "https://localhost:8080/"
        },
        "id": "6KzQacL0z5hQ",
        "outputId": "3fef1072-5322-4d20-f7be-d78af7fcd80b"
      },
      "execution_count": 1,
      "outputs": [
        {
          "output_type": "stream",
          "name": "stdout",
          "text": [
            "Mounted at /content/drive\n"
          ]
        }
      ]
    },
    {
      "cell_type": "code",
      "execution_count": 2,
      "metadata": {
        "id": "9nHqiCdhlbtD"
      },
      "outputs": [],
      "source": [
        "import torch\n",
        "import numpy as np\n",
        "import pandas as pd\n",
        "import matplotlib.pyplot as plt\n",
        "import seaborn as sns\n",
        "\n",
        "from datetime import datetime"
      ]
    },
    {
      "cell_type": "code",
      "source": [
        "df = pd.read_excel('/content/VMI_data.xls', index_col=0)\n",
        "df = df.fillna(0)"
      ],
      "metadata": {
        "id": "WeOtsGHomQe2"
      },
      "execution_count": 3,
      "outputs": []
    },
    {
      "cell_type": "code",
      "source": [
        "# 'CRET_TIME' 열에 대해 datetime으로 변환하는 함수 정의\n",
        "def convert_to_datetime(date_string):\n",
        "    # date_string = date_string[:8]\n",
        "    # 문자열 형식 지정\n",
        "    date_format = \"%Y%m%d%H%M\"\n",
        "    date_format1 = \"%Y%m%d\"\n",
        "    return datetime.strptime(date_string, date_format)\n",
        "\n",
        "# apply 함수를 사용하여 'CRET_TIME' 열 변환\n",
        "df['CRET_TIME'] = df['CRET_TIME'].astype(str)\n",
        "\n",
        "df['CRET_TIME'] = df['CRET_TIME'].apply(convert_to_datetime)"
      ],
      "metadata": {
        "id": "8PPc2JuyJZAz"
      },
      "execution_count": 4,
      "outputs": []
    },
    {
      "cell_type": "code",
      "source": [
        "pivot_result = df.pivot_table(index='Part Number', columns='CRET_TIME', values='D일 투입예정 수량(D일계획)')\n",
        "pivot_result = pivot_result.fillna(0)\n",
        "P = pivot_result.T"
      ],
      "metadata": {
        "id": "VrdCMloemWQe"
      },
      "execution_count": 5,
      "outputs": []
    },
    {
      "cell_type": "code",
      "source": [
        "P"
      ],
      "metadata": {
        "colab": {
          "base_uri": "https://localhost:8080/",
          "height": 883
        },
        "id": "NzM71u2P1mC0",
        "outputId": "c97eadfd-3675-4e04-aebf-09210115b83e"
      },
      "execution_count": null,
      "outputs": [
        {
          "output_type": "execute_result",
          "data": {
            "text/plain": [
              "Part Number          Part 0  Part 1  Part 10  Part 100  Part 101  Part 102  \\\n",
              "CRET_TIME                                                                    \n",
              "2021-09-13 18:30:00     0.0     0.0     16.0      38.0       0.0       0.0   \n",
              "2021-09-14 06:05:00     0.0     0.0     16.0      38.0       0.0       0.0   \n",
              "2021-09-14 06:25:00     0.0     0.0     16.0      35.0       0.0       3.0   \n",
              "2021-09-14 06:34:00     0.0     0.0     16.0      35.0       0.0       3.0   \n",
              "2021-09-14 17:30:00     0.0     0.0     16.0      35.0       0.0       3.0   \n",
              "...                     ...     ...      ...       ...       ...       ...   \n",
              "2021-10-29 12:34:00     0.0     0.0    156.0      23.0       0.0      50.0   \n",
              "2021-10-29 15:03:00     0.0     0.0    156.0      23.0       0.0      50.0   \n",
              "2021-10-29 15:38:00     0.0     0.0    156.0      23.0       0.0      50.0   \n",
              "2021-10-30 07:04:00     0.0     0.0    156.0      23.0       0.0      50.0   \n",
              "2021-11-01 07:03:00     0.0     0.0    104.0       0.0       0.0      21.0   \n",
              "\n",
              "Part Number          Part 103  Part 104  Part 105  Part 106  ...  Part 90  \\\n",
              "CRET_TIME                                                    ...            \n",
              "2021-09-13 18:30:00      23.0     223.0       0.0     263.0  ...     23.0   \n",
              "2021-09-14 06:05:00      23.0     223.0       0.0     263.0  ...     23.0   \n",
              "2021-09-14 06:25:00       9.0     199.0       0.0     234.0  ...     20.0   \n",
              "2021-09-14 06:34:00       9.0     199.0       0.0     234.0  ...     20.0   \n",
              "2021-09-14 17:30:00       9.0     199.0       0.0     234.0  ...     20.0   \n",
              "...                       ...       ...       ...       ...  ...      ...   \n",
              "2021-10-29 12:34:00     134.0     102.0       0.0     444.0  ...     20.0   \n",
              "2021-10-29 15:03:00     134.0     102.0       0.0     444.0  ...     20.0   \n",
              "2021-10-29 15:38:00     134.0     102.0       0.0     444.0  ...     20.0   \n",
              "2021-10-30 07:04:00     134.0     102.0       0.0     444.0  ...     20.0   \n",
              "2021-11-01 07:03:00      82.0      40.0       0.0     364.0  ...     17.0   \n",
              "\n",
              "Part Number          Part 91  Part 92  Part 93  Part 94  Part 95  Part 96  \\\n",
              "CRET_TIME                                                                   \n",
              "2021-09-13 18:30:00     46.0    266.0      0.0     42.0    113.0      0.0   \n",
              "2021-09-14 06:05:00     46.0    266.0      0.0     42.0    113.0      0.0   \n",
              "2021-09-14 06:25:00     46.0      4.0      0.0     40.0    209.0      0.0   \n",
              "2021-09-14 06:34:00     46.0      4.0      0.0     40.0    209.0      0.0   \n",
              "2021-09-14 17:30:00     46.0      4.0      0.0     40.0    209.0      0.0   \n",
              "...                      ...      ...      ...      ...      ...      ...   \n",
              "2021-10-29 12:34:00     84.0    630.0      0.0     45.0    264.0      0.0   \n",
              "2021-10-29 15:03:00     84.0    630.0      0.0     45.0    264.0      0.0   \n",
              "2021-10-29 15:38:00     84.0    630.0      0.0     45.0    264.0      0.0   \n",
              "2021-10-30 07:04:00     84.0    630.0      0.0     45.0    264.0      0.0   \n",
              "2021-11-01 07:03:00     78.0    124.0      0.0     28.0    209.0      0.0   \n",
              "\n",
              "Part Number          Part 97  Part 98  Part 99  \n",
              "CRET_TIME                                       \n",
              "2021-09-13 18:30:00    127.0     40.0    124.0  \n",
              "2021-09-14 06:05:00    127.0     40.0    124.0  \n",
              "2021-09-14 06:25:00     32.0     33.0    150.0  \n",
              "2021-09-14 06:34:00     32.0     33.0    150.0  \n",
              "2021-09-14 17:30:00     32.0     33.0    150.0  \n",
              "...                      ...      ...      ...  \n",
              "2021-10-29 12:34:00      3.0      0.0     49.0  \n",
              "2021-10-29 15:03:00      3.0      0.0     49.0  \n",
              "2021-10-29 15:38:00      3.0      0.0     49.0  \n",
              "2021-10-30 07:04:00      3.0      0.0     49.0  \n",
              "2021-11-01 07:03:00      1.0      0.0     11.0  \n",
              "\n",
              "[153 rows x 117 columns]"
            ],
            "text/html": [
              "\n",
              "\n",
              "  <div id=\"df-3770dd66-4384-4b72-938d-0b927ef6efa6\">\n",
              "    <div class=\"colab-df-container\">\n",
              "      <div>\n",
              "<style scoped>\n",
              "    .dataframe tbody tr th:only-of-type {\n",
              "        vertical-align: middle;\n",
              "    }\n",
              "\n",
              "    .dataframe tbody tr th {\n",
              "        vertical-align: top;\n",
              "    }\n",
              "\n",
              "    .dataframe thead th {\n",
              "        text-align: right;\n",
              "    }\n",
              "</style>\n",
              "<table border=\"1\" class=\"dataframe\">\n",
              "  <thead>\n",
              "    <tr style=\"text-align: right;\">\n",
              "      <th>Part Number</th>\n",
              "      <th>Part 0</th>\n",
              "      <th>Part 1</th>\n",
              "      <th>Part 10</th>\n",
              "      <th>Part 100</th>\n",
              "      <th>Part 101</th>\n",
              "      <th>Part 102</th>\n",
              "      <th>Part 103</th>\n",
              "      <th>Part 104</th>\n",
              "      <th>Part 105</th>\n",
              "      <th>Part 106</th>\n",
              "      <th>...</th>\n",
              "      <th>Part 90</th>\n",
              "      <th>Part 91</th>\n",
              "      <th>Part 92</th>\n",
              "      <th>Part 93</th>\n",
              "      <th>Part 94</th>\n",
              "      <th>Part 95</th>\n",
              "      <th>Part 96</th>\n",
              "      <th>Part 97</th>\n",
              "      <th>Part 98</th>\n",
              "      <th>Part 99</th>\n",
              "    </tr>\n",
              "    <tr>\n",
              "      <th>CRET_TIME</th>\n",
              "      <th></th>\n",
              "      <th></th>\n",
              "      <th></th>\n",
              "      <th></th>\n",
              "      <th></th>\n",
              "      <th></th>\n",
              "      <th></th>\n",
              "      <th></th>\n",
              "      <th></th>\n",
              "      <th></th>\n",
              "      <th></th>\n",
              "      <th></th>\n",
              "      <th></th>\n",
              "      <th></th>\n",
              "      <th></th>\n",
              "      <th></th>\n",
              "      <th></th>\n",
              "      <th></th>\n",
              "      <th></th>\n",
              "      <th></th>\n",
              "      <th></th>\n",
              "    </tr>\n",
              "  </thead>\n",
              "  <tbody>\n",
              "    <tr>\n",
              "      <th>2021-09-13 18:30:00</th>\n",
              "      <td>0.0</td>\n",
              "      <td>0.0</td>\n",
              "      <td>16.0</td>\n",
              "      <td>38.0</td>\n",
              "      <td>0.0</td>\n",
              "      <td>0.0</td>\n",
              "      <td>23.0</td>\n",
              "      <td>223.0</td>\n",
              "      <td>0.0</td>\n",
              "      <td>263.0</td>\n",
              "      <td>...</td>\n",
              "      <td>23.0</td>\n",
              "      <td>46.0</td>\n",
              "      <td>266.0</td>\n",
              "      <td>0.0</td>\n",
              "      <td>42.0</td>\n",
              "      <td>113.0</td>\n",
              "      <td>0.0</td>\n",
              "      <td>127.0</td>\n",
              "      <td>40.0</td>\n",
              "      <td>124.0</td>\n",
              "    </tr>\n",
              "    <tr>\n",
              "      <th>2021-09-14 06:05:00</th>\n",
              "      <td>0.0</td>\n",
              "      <td>0.0</td>\n",
              "      <td>16.0</td>\n",
              "      <td>38.0</td>\n",
              "      <td>0.0</td>\n",
              "      <td>0.0</td>\n",
              "      <td>23.0</td>\n",
              "      <td>223.0</td>\n",
              "      <td>0.0</td>\n",
              "      <td>263.0</td>\n",
              "      <td>...</td>\n",
              "      <td>23.0</td>\n",
              "      <td>46.0</td>\n",
              "      <td>266.0</td>\n",
              "      <td>0.0</td>\n",
              "      <td>42.0</td>\n",
              "      <td>113.0</td>\n",
              "      <td>0.0</td>\n",
              "      <td>127.0</td>\n",
              "      <td>40.0</td>\n",
              "      <td>124.0</td>\n",
              "    </tr>\n",
              "    <tr>\n",
              "      <th>2021-09-14 06:25:00</th>\n",
              "      <td>0.0</td>\n",
              "      <td>0.0</td>\n",
              "      <td>16.0</td>\n",
              "      <td>35.0</td>\n",
              "      <td>0.0</td>\n",
              "      <td>3.0</td>\n",
              "      <td>9.0</td>\n",
              "      <td>199.0</td>\n",
              "      <td>0.0</td>\n",
              "      <td>234.0</td>\n",
              "      <td>...</td>\n",
              "      <td>20.0</td>\n",
              "      <td>46.0</td>\n",
              "      <td>4.0</td>\n",
              "      <td>0.0</td>\n",
              "      <td>40.0</td>\n",
              "      <td>209.0</td>\n",
              "      <td>0.0</td>\n",
              "      <td>32.0</td>\n",
              "      <td>33.0</td>\n",
              "      <td>150.0</td>\n",
              "    </tr>\n",
              "    <tr>\n",
              "      <th>2021-09-14 06:34:00</th>\n",
              "      <td>0.0</td>\n",
              "      <td>0.0</td>\n",
              "      <td>16.0</td>\n",
              "      <td>35.0</td>\n",
              "      <td>0.0</td>\n",
              "      <td>3.0</td>\n",
              "      <td>9.0</td>\n",
              "      <td>199.0</td>\n",
              "      <td>0.0</td>\n",
              "      <td>234.0</td>\n",
              "      <td>...</td>\n",
              "      <td>20.0</td>\n",
              "      <td>46.0</td>\n",
              "      <td>4.0</td>\n",
              "      <td>0.0</td>\n",
              "      <td>40.0</td>\n",
              "      <td>209.0</td>\n",
              "      <td>0.0</td>\n",
              "      <td>32.0</td>\n",
              "      <td>33.0</td>\n",
              "      <td>150.0</td>\n",
              "    </tr>\n",
              "    <tr>\n",
              "      <th>2021-09-14 17:30:00</th>\n",
              "      <td>0.0</td>\n",
              "      <td>0.0</td>\n",
              "      <td>16.0</td>\n",
              "      <td>35.0</td>\n",
              "      <td>0.0</td>\n",
              "      <td>3.0</td>\n",
              "      <td>9.0</td>\n",
              "      <td>199.0</td>\n",
              "      <td>0.0</td>\n",
              "      <td>234.0</td>\n",
              "      <td>...</td>\n",
              "      <td>20.0</td>\n",
              "      <td>46.0</td>\n",
              "      <td>4.0</td>\n",
              "      <td>0.0</td>\n",
              "      <td>40.0</td>\n",
              "      <td>209.0</td>\n",
              "      <td>0.0</td>\n",
              "      <td>32.0</td>\n",
              "      <td>33.0</td>\n",
              "      <td>150.0</td>\n",
              "    </tr>\n",
              "    <tr>\n",
              "      <th>...</th>\n",
              "      <td>...</td>\n",
              "      <td>...</td>\n",
              "      <td>...</td>\n",
              "      <td>...</td>\n",
              "      <td>...</td>\n",
              "      <td>...</td>\n",
              "      <td>...</td>\n",
              "      <td>...</td>\n",
              "      <td>...</td>\n",
              "      <td>...</td>\n",
              "      <td>...</td>\n",
              "      <td>...</td>\n",
              "      <td>...</td>\n",
              "      <td>...</td>\n",
              "      <td>...</td>\n",
              "      <td>...</td>\n",
              "      <td>...</td>\n",
              "      <td>...</td>\n",
              "      <td>...</td>\n",
              "      <td>...</td>\n",
              "      <td>...</td>\n",
              "    </tr>\n",
              "    <tr>\n",
              "      <th>2021-10-29 12:34:00</th>\n",
              "      <td>0.0</td>\n",
              "      <td>0.0</td>\n",
              "      <td>156.0</td>\n",
              "      <td>23.0</td>\n",
              "      <td>0.0</td>\n",
              "      <td>50.0</td>\n",
              "      <td>134.0</td>\n",
              "      <td>102.0</td>\n",
              "      <td>0.0</td>\n",
              "      <td>444.0</td>\n",
              "      <td>...</td>\n",
              "      <td>20.0</td>\n",
              "      <td>84.0</td>\n",
              "      <td>630.0</td>\n",
              "      <td>0.0</td>\n",
              "      <td>45.0</td>\n",
              "      <td>264.0</td>\n",
              "      <td>0.0</td>\n",
              "      <td>3.0</td>\n",
              "      <td>0.0</td>\n",
              "      <td>49.0</td>\n",
              "    </tr>\n",
              "    <tr>\n",
              "      <th>2021-10-29 15:03:00</th>\n",
              "      <td>0.0</td>\n",
              "      <td>0.0</td>\n",
              "      <td>156.0</td>\n",
              "      <td>23.0</td>\n",
              "      <td>0.0</td>\n",
              "      <td>50.0</td>\n",
              "      <td>134.0</td>\n",
              "      <td>102.0</td>\n",
              "      <td>0.0</td>\n",
              "      <td>444.0</td>\n",
              "      <td>...</td>\n",
              "      <td>20.0</td>\n",
              "      <td>84.0</td>\n",
              "      <td>630.0</td>\n",
              "      <td>0.0</td>\n",
              "      <td>45.0</td>\n",
              "      <td>264.0</td>\n",
              "      <td>0.0</td>\n",
              "      <td>3.0</td>\n",
              "      <td>0.0</td>\n",
              "      <td>49.0</td>\n",
              "    </tr>\n",
              "    <tr>\n",
              "      <th>2021-10-29 15:38:00</th>\n",
              "      <td>0.0</td>\n",
              "      <td>0.0</td>\n",
              "      <td>156.0</td>\n",
              "      <td>23.0</td>\n",
              "      <td>0.0</td>\n",
              "      <td>50.0</td>\n",
              "      <td>134.0</td>\n",
              "      <td>102.0</td>\n",
              "      <td>0.0</td>\n",
              "      <td>444.0</td>\n",
              "      <td>...</td>\n",
              "      <td>20.0</td>\n",
              "      <td>84.0</td>\n",
              "      <td>630.0</td>\n",
              "      <td>0.0</td>\n",
              "      <td>45.0</td>\n",
              "      <td>264.0</td>\n",
              "      <td>0.0</td>\n",
              "      <td>3.0</td>\n",
              "      <td>0.0</td>\n",
              "      <td>49.0</td>\n",
              "    </tr>\n",
              "    <tr>\n",
              "      <th>2021-10-30 07:04:00</th>\n",
              "      <td>0.0</td>\n",
              "      <td>0.0</td>\n",
              "      <td>156.0</td>\n",
              "      <td>23.0</td>\n",
              "      <td>0.0</td>\n",
              "      <td>50.0</td>\n",
              "      <td>134.0</td>\n",
              "      <td>102.0</td>\n",
              "      <td>0.0</td>\n",
              "      <td>444.0</td>\n",
              "      <td>...</td>\n",
              "      <td>20.0</td>\n",
              "      <td>84.0</td>\n",
              "      <td>630.0</td>\n",
              "      <td>0.0</td>\n",
              "      <td>45.0</td>\n",
              "      <td>264.0</td>\n",
              "      <td>0.0</td>\n",
              "      <td>3.0</td>\n",
              "      <td>0.0</td>\n",
              "      <td>49.0</td>\n",
              "    </tr>\n",
              "    <tr>\n",
              "      <th>2021-11-01 07:03:00</th>\n",
              "      <td>0.0</td>\n",
              "      <td>0.0</td>\n",
              "      <td>104.0</td>\n",
              "      <td>0.0</td>\n",
              "      <td>0.0</td>\n",
              "      <td>21.0</td>\n",
              "      <td>82.0</td>\n",
              "      <td>40.0</td>\n",
              "      <td>0.0</td>\n",
              "      <td>364.0</td>\n",
              "      <td>...</td>\n",
              "      <td>17.0</td>\n",
              "      <td>78.0</td>\n",
              "      <td>124.0</td>\n",
              "      <td>0.0</td>\n",
              "      <td>28.0</td>\n",
              "      <td>209.0</td>\n",
              "      <td>0.0</td>\n",
              "      <td>1.0</td>\n",
              "      <td>0.0</td>\n",
              "      <td>11.0</td>\n",
              "    </tr>\n",
              "  </tbody>\n",
              "</table>\n",
              "<p>153 rows × 117 columns</p>\n",
              "</div>\n",
              "      <button class=\"colab-df-convert\" onclick=\"convertToInteractive('df-3770dd66-4384-4b72-938d-0b927ef6efa6')\"\n",
              "              title=\"Convert this dataframe to an interactive table.\"\n",
              "              style=\"display:none;\">\n",
              "\n",
              "  <svg xmlns=\"http://www.w3.org/2000/svg\" height=\"24px\"viewBox=\"0 0 24 24\"\n",
              "       width=\"24px\">\n",
              "    <path d=\"M0 0h24v24H0V0z\" fill=\"none\"/>\n",
              "    <path d=\"M18.56 5.44l.94 2.06.94-2.06 2.06-.94-2.06-.94-.94-2.06-.94 2.06-2.06.94zm-11 1L8.5 8.5l.94-2.06 2.06-.94-2.06-.94L8.5 2.5l-.94 2.06-2.06.94zm10 10l.94 2.06.94-2.06 2.06-.94-2.06-.94-.94-2.06-.94 2.06-2.06.94z\"/><path d=\"M17.41 7.96l-1.37-1.37c-.4-.4-.92-.59-1.43-.59-.52 0-1.04.2-1.43.59L10.3 9.45l-7.72 7.72c-.78.78-.78 2.05 0 2.83L4 21.41c.39.39.9.59 1.41.59.51 0 1.02-.2 1.41-.59l7.78-7.78 2.81-2.81c.8-.78.8-2.07 0-2.86zM5.41 20L4 18.59l7.72-7.72 1.47 1.35L5.41 20z\"/>\n",
              "  </svg>\n",
              "      </button>\n",
              "\n",
              "\n",
              "\n",
              "    <div id=\"df-0a1df803-96bf-41e0-b100-2e7a81406467\">\n",
              "      <button class=\"colab-df-quickchart\" onclick=\"quickchart('df-0a1df803-96bf-41e0-b100-2e7a81406467')\"\n",
              "              title=\"Suggest charts.\"\n",
              "              style=\"display:none;\">\n",
              "\n",
              "<svg xmlns=\"http://www.w3.org/2000/svg\" height=\"24px\"viewBox=\"0 0 24 24\"\n",
              "     width=\"24px\">\n",
              "    <g>\n",
              "        <path d=\"M19 3H5c-1.1 0-2 .9-2 2v14c0 1.1.9 2 2 2h14c1.1 0 2-.9 2-2V5c0-1.1-.9-2-2-2zM9 17H7v-7h2v7zm4 0h-2V7h2v10zm4 0h-2v-4h2v4z\"/>\n",
              "    </g>\n",
              "</svg>\n",
              "      </button>\n",
              "    </div>\n",
              "\n",
              "<style>\n",
              "  .colab-df-quickchart {\n",
              "    background-color: #E8F0FE;\n",
              "    border: none;\n",
              "    border-radius: 50%;\n",
              "    cursor: pointer;\n",
              "    display: none;\n",
              "    fill: #1967D2;\n",
              "    height: 32px;\n",
              "    padding: 0 0 0 0;\n",
              "    width: 32px;\n",
              "  }\n",
              "\n",
              "  .colab-df-quickchart:hover {\n",
              "    background-color: #E2EBFA;\n",
              "    box-shadow: 0px 1px 2px rgba(60, 64, 67, 0.3), 0px 1px 3px 1px rgba(60, 64, 67, 0.15);\n",
              "    fill: #174EA6;\n",
              "  }\n",
              "\n",
              "  [theme=dark] .colab-df-quickchart {\n",
              "    background-color: #3B4455;\n",
              "    fill: #D2E3FC;\n",
              "  }\n",
              "\n",
              "  [theme=dark] .colab-df-quickchart:hover {\n",
              "    background-color: #434B5C;\n",
              "    box-shadow: 0px 1px 3px 1px rgba(0, 0, 0, 0.15);\n",
              "    filter: drop-shadow(0px 1px 2px rgba(0, 0, 0, 0.3));\n",
              "    fill: #FFFFFF;\n",
              "  }\n",
              "</style>\n",
              "\n",
              "    <script>\n",
              "      async function quickchart(key) {\n",
              "        const containerElement = document.querySelector('#' + key);\n",
              "        const charts = await google.colab.kernel.invokeFunction(\n",
              "            'suggestCharts', [key], {});\n",
              "      }\n",
              "    </script>\n",
              "\n",
              "      <script>\n",
              "\n",
              "function displayQuickchartButton(domScope) {\n",
              "  let quickchartButtonEl =\n",
              "    domScope.querySelector('#df-0a1df803-96bf-41e0-b100-2e7a81406467 button.colab-df-quickchart');\n",
              "  quickchartButtonEl.style.display =\n",
              "    google.colab.kernel.accessAllowed ? 'block' : 'none';\n",
              "}\n",
              "\n",
              "        displayQuickchartButton(document);\n",
              "      </script>\n",
              "      <style>\n",
              "    .colab-df-container {\n",
              "      display:flex;\n",
              "      flex-wrap:wrap;\n",
              "      gap: 12px;\n",
              "    }\n",
              "\n",
              "    .colab-df-convert {\n",
              "      background-color: #E8F0FE;\n",
              "      border: none;\n",
              "      border-radius: 50%;\n",
              "      cursor: pointer;\n",
              "      display: none;\n",
              "      fill: #1967D2;\n",
              "      height: 32px;\n",
              "      padding: 0 0 0 0;\n",
              "      width: 32px;\n",
              "    }\n",
              "\n",
              "    .colab-df-convert:hover {\n",
              "      background-color: #E2EBFA;\n",
              "      box-shadow: 0px 1px 2px rgba(60, 64, 67, 0.3), 0px 1px 3px 1px rgba(60, 64, 67, 0.15);\n",
              "      fill: #174EA6;\n",
              "    }\n",
              "\n",
              "    [theme=dark] .colab-df-convert {\n",
              "      background-color: #3B4455;\n",
              "      fill: #D2E3FC;\n",
              "    }\n",
              "\n",
              "    [theme=dark] .colab-df-convert:hover {\n",
              "      background-color: #434B5C;\n",
              "      box-shadow: 0px 1px 3px 1px rgba(0, 0, 0, 0.15);\n",
              "      filter: drop-shadow(0px 1px 2px rgba(0, 0, 0, 0.3));\n",
              "      fill: #FFFFFF;\n",
              "    }\n",
              "  </style>\n",
              "\n",
              "      <script>\n",
              "        const buttonEl =\n",
              "          document.querySelector('#df-3770dd66-4384-4b72-938d-0b927ef6efa6 button.colab-df-convert');\n",
              "        buttonEl.style.display =\n",
              "          google.colab.kernel.accessAllowed ? 'block' : 'none';\n",
              "\n",
              "        async function convertToInteractive(key) {\n",
              "          const element = document.querySelector('#df-3770dd66-4384-4b72-938d-0b927ef6efa6');\n",
              "          const dataTable =\n",
              "            await google.colab.kernel.invokeFunction('convertToInteractive',\n",
              "                                                     [key], {});\n",
              "          if (!dataTable) return;\n",
              "\n",
              "          const docLinkHtml = 'Like what you see? Visit the ' +\n",
              "            '<a target=\"_blank\" href=https://colab.research.google.com/notebooks/data_table.ipynb>data table notebook</a>'\n",
              "            + ' to learn more about interactive tables.';\n",
              "          element.innerHTML = '';\n",
              "          dataTable['output_type'] = 'display_data';\n",
              "          await google.colab.output.renderOutput(dataTable, element);\n",
              "          const docLink = document.createElement('div');\n",
              "          docLink.innerHTML = docLinkHtml;\n",
              "          element.appendChild(docLink);\n",
              "        }\n",
              "      </script>\n",
              "    </div>\n",
              "  </div>\n"
            ]
          },
          "metadata": {},
          "execution_count": 36
        }
      ]
    },
    {
      "cell_type": "code",
      "source": [
        "# 0의 값이 가장 작은 행의 인덱스 찾기\n",
        "min_zero_row_index = P[P.eq(0.0).sum(axis=1) > 0].sum(axis=0).idxmin()\n",
        "\n",
        "print(\"가장 작은 0의 값을 가진 행의 인덱스:\", min_zero_row_index)"
      ],
      "metadata": {
        "id": "SkQLPPvvzPsn",
        "colab": {
          "base_uri": "https://localhost:8080/"
        },
        "outputId": "c92fb1dd-0f17-4953-8dac-d42d9263bf1b"
      },
      "execution_count": 6,
      "outputs": [
        {
          "output_type": "stream",
          "name": "stdout",
          "text": [
            "가장 작은 0의 값을 가진 행의 인덱스: Part 115\n"
          ]
        }
      ]
    },
    {
      "cell_type": "code",
      "source": [
        "# 열 별 0 값의 개수 계산\n",
        "zero_count_per_col = (P == 0).sum()\n",
        "\n",
        "# 0 값이 가장 적은 열의 이름 찾기\n",
        "min_zero_count_col = zero_count_per_col.idxmin()\n",
        "\n",
        "print(\"0 값이 가장 적은 열의 이름:\", min_zero_count_col)"
      ],
      "metadata": {
        "colab": {
          "base_uri": "https://localhost:8080/"
        },
        "id": "JK2uDHVg0z5I",
        "outputId": "ec4b6c81-74c4-405c-80c9-92cacdd7b9e8"
      },
      "execution_count": 7,
      "outputs": [
        {
          "output_type": "stream",
          "name": "stdout",
          "text": [
            "0 값이 가장 적은 열의 이름: Part 94\n"
          ]
        }
      ]
    },
    {
      "cell_type": "code",
      "source": [
        "dfP = P['Part 77']\n",
        "type(dfP)\n",
        "dfP=pd.DataFrame(dfP)"
      ],
      "metadata": {
        "id": "KiF9FAfIfgnA"
      },
      "execution_count": 81,
      "outputs": []
    },
    {
      "cell_type": "markdown",
      "source": [
        "## 2. EDA"
      ],
      "metadata": {
        "id": "J3qRzmzQ2NS7"
      }
    },
    {
      "cell_type": "code",
      "source": [
        "plt.figure(figsize=[12, 8])\n",
        "sns.set(style='whitegrid', palette='muted', font_scale=1.2)\n",
        "\n",
        "plt.plot(dfP)\n",
        "plt.show()"
      ],
      "metadata": {
        "colab": {
          "base_uri": "https://localhost:8080/",
          "height": 684
        },
        "id": "RSJKTw_E2N_b",
        "outputId": "5c877109-265b-4ac3-c01d-956c1ca2ef7e"
      },
      "execution_count": 82,
      "outputs": [
        {
          "output_type": "display_data",
          "data": {
            "text/plain": [
              "<Figure size 1200x800 with 1 Axes>"
            ],
            "image/png": "[encoded data removed]"
          },
          "metadata": {}
        }
      ]
    },
    {
      "cell_type": "markdown",
      "source": [
        "## 3. Time Series 데이터 전처리"
      ],
      "metadata": {
        "id": "uDjziy7H5JGi"
      }
    },
    {
      "cell_type": "code",
      "source": [
        "def create_sequences(data, seq_length):  # seq_length 단위로 보겠다 ex) 5일 단위로 보겠다 => seq_length=5\n",
        "    xs = []\n",
        "    ys = []\n",
        "    for i in range(len(data)-seq_length):\n",
        "        x = data.iloc[i:(i+seq_length)]\n",
        "        y = data.iloc[i+seq_length]\n",
        "        xs.append(x)\n",
        "        ys.append(y)\n",
        "    return np.array(xs), np.array(ys)\n",
        "\n",
        "seq_length = 4  # 4일 단위로 !\n",
        "X, y = create_sequences(dfP, seq_length)"
      ],
      "metadata": {
        "id": "cLbGz7XJ2OoU"
      },
      "execution_count": 83,
      "outputs": []
    },
    {
      "cell_type": "code",
      "source": [
        "X.shape"
      ],
      "metadata": {
        "id": "dOn62Fa42OaZ",
        "colab": {
          "base_uri": "https://localhost:8080/"
        },
        "outputId": "adf3a4e1-250d-452d-e41f-c586e3c43acd"
      },
      "execution_count": 84,
      "outputs": [
        {
          "output_type": "execute_result",
          "data": {
            "text/plain": [
              "(149, 4, 1)"
            ]
          },
          "metadata": {},
          "execution_count": 84
        }
      ]
    },
    {
      "cell_type": "code",
      "source": [
        "y.shape"
      ],
      "metadata": {
        "id": "jQZO5WIj2OEc",
        "colab": {
          "base_uri": "https://localhost:8080/"
        },
        "outputId": "0ede8560-802d-4d76-f4b4-7856fc8189ca"
      },
      "execution_count": 85,
      "outputs": [
        {
          "output_type": "execute_result",
          "data": {
            "text/plain": [
              "(149, 1)"
            ]
          },
          "metadata": {},
          "execution_count": 85
        }
      ]
    },
    {
      "cell_type": "code",
      "source": [
        "train_size = int(149 * 0.8)\n",
        "#119, 15, 15\n",
        "X_train, y_train = X[:train_size], y[:train_size]\n",
        "X_val, y_val = X[train_size:train_size+15], y[train_size:train_size+15]\n",
        "X_test, y_test = X[train_size+15:], y[train_size+15:]"
      ],
      "metadata": {
        "id": "YkbH3lLzJVQu"
      },
      "execution_count": 86,
      "outputs": []
    },
    {
      "cell_type": "code",
      "source": [
        "X_train.shape"
      ],
      "metadata": {
        "colab": {
          "base_uri": "https://localhost:8080/"
        },
        "id": "bd8Pt31SJ49w",
        "outputId": "61647fe8-5319-4e36-e918-937785a6c625"
      },
      "execution_count": 89,
      "outputs": [
        {
          "output_type": "execute_result",
          "data": {
            "text/plain": [
              "(119, 4, 1)"
            ]
          },
          "metadata": {},
          "execution_count": 89
        }
      ]
    },
    {
      "cell_type": "code",
      "source": [
        "MIN = X_train.min()\n",
        "MAX = X_train.max()\n",
        "\n",
        "def MinMaxScale(array, min, max):\n",
        "\n",
        "    return (array - min) / (max - min)\n",
        "\n",
        "X_train = MinMaxScale(X_train, MIN, MAX)\n",
        "y_train = MinMaxScale(y_train, MIN, MAX)\n",
        "\n",
        "X_val = MinMaxScale(X_val, MIN, MAX)\n",
        "y_val = MinMaxScale(y_val, MIN, MAX)\n",
        "\n",
        "X_test = MinMaxScale(X_test, MIN, MAX)\n",
        "y_test = MinMaxScale(y_test, MIN, MAX)"
      ],
      "metadata": {
        "id": "1svBgakvKBTb"
      },
      "execution_count": 90,
      "outputs": []
    },
    {
      "cell_type": "code",
      "source": [
        "import torch\n",
        "\n",
        "def make_tensor(array):\n",
        "    return torch.from_numpy(array).float()\n",
        "\n",
        "X_train = make_tensor(X_train)\n",
        "y_train = make_tensor(y_train)\n",
        "\n",
        "X_val = make_tensor(X_val)\n",
        "y_val = make_tensor(y_val)\n",
        "\n",
        "X_test = make_tensor(X_test)\n",
        "y_test = make_tensor(y_test)"
      ],
      "metadata": {
        "id": "N45RsfgRKD5b"
      },
      "execution_count": 91,
      "outputs": []
    },
    {
      "cell_type": "code",
      "source": [
        "from torch import nn, optim\n",
        "\n",
        "class LSTM(nn.Module):\n",
        "    def __init__(self, n_features, n_hidden, seq_len, n_layers):\n",
        "        super(LSTM, self).__init__()\n",
        "        self.n_hidden = n_hidden\n",
        "        self.seq_len = seq_len\n",
        "        self.n_layers = n_layers\n",
        "        self.lstm = nn.LSTM(\n",
        "            input_size=n_features,\n",
        "            hidden_size=n_hidden,\n",
        "            num_layers=n_layers\n",
        "        )\n",
        "        self.linear = nn.Linear(in_features=n_hidden, out_features=1)\n",
        "    def reset_hidden_state(self):\n",
        "        self.hidden = (\n",
        "            torch.zeros(self.n_layers, self.seq_len, self.n_hidden),\n",
        "            torch.zeros(self.n_layers, self.seq_len, self.n_hidden)\n",
        "        )\n",
        "    def forward(self, sequences):\n",
        "        lstm_out, self.hidden = self.lstm(\n",
        "            sequences.view(len(sequences), self.seq_len, -1),\n",
        "            self.hidden\n",
        "        )\n",
        "        last_time_step = lstm_out.view(self.seq_len, len(sequences), self.n_hidden)[-1]\n",
        "        y_pred = self.linear(last_time_step)\n",
        "        return y_pred"
      ],
      "metadata": {
        "id": "wAq_Gl4cKGdw"
      },
      "execution_count": 92,
      "outputs": []
    },
    {
      "cell_type": "code",
      "source": [
        "RANDOM_SEED = 77\n",
        "np.random.seed(RANDOM_SEED)\n",
        "torch.manual_seed(RANDOM_SEED)\n",
        "\n",
        "def train_model(model, train_data, train_labels, val_data=None, val_labels=None, num_epochs=100, verbose = 10, patience = 10):\n",
        "    loss_fn = torch.nn.L1Loss() #L1Loss=MAE Loss\n",
        "    optimiser = torch.optim.Adam(model.parameters(), lr=0.001)\n",
        "    train_hist = []\n",
        "    val_hist = []\n",
        "\n",
        "    for t in range(num_epochs):\n",
        "        epoch_loss = 0\n",
        "        for idx, seq in enumerate(train_data):\n",
        "            model.reset_hidden_state() # seq 별 hidden state reset\n",
        "\n",
        "            # train loss\n",
        "            seq = torch.unsqueeze(seq, 0)\n",
        "            y_pred = model(seq)\n",
        "            loss = loss_fn(y_pred[0].float(), train_labels[idx]) # 1개의 step에 대한 loss\n",
        "\n",
        "            # update weights\n",
        "            optimiser.zero_grad()\n",
        "            loss.backward()\n",
        "            optimiser.step()\n",
        "\n",
        "            epoch_loss += loss.item()\n",
        "        train_hist.append(epoch_loss / len(train_data))\n",
        "\n",
        "        if val_data is not None:\n",
        "            with torch.no_grad():\n",
        "                val_loss = 0\n",
        "                for val_idx, val_seq in enumerate(val_data):\n",
        "                    model.reset_hidden_state() # seq 별로 hidden state 초기화\n",
        "\n",
        "                    val_seq = torch.unsqueeze(val_seq, 0)\n",
        "                    y_val_pred = model(val_seq)\n",
        "                    val_step_loss = loss_fn(y_val_pred[0].float(), val_labels[val_idx])\n",
        "\n",
        "                    val_loss += val_step_loss\n",
        "            val_hist.append(val_loss / len(val_data)) # val hist에 추가\n",
        "\n",
        "            ## verbose 번째 마다 loss 출력\n",
        "            if t % verbose == 0:\n",
        "                print(f'Epoch {t} train loss: {epoch_loss / len(train_data)} val loss: {val_loss / len(val_data)}')\n",
        "\n",
        "            ## patience 번째 마다 early stopping 여부 확인\n",
        "            if (t % patience == 0) & (t != 0):\n",
        "\n",
        "                ## loss가 커졌다면 early stop\n",
        "                if val_hist[t - patience] < val_hist[t] :\n",
        "                    print('\\n Early Stopping')\n",
        "                    break\n",
        "        elif t % verbose == 0:\n",
        "            print(f'Epoch {t} train loss: {epoch_loss / len(train_data)}')\n",
        "\n",
        "    return model, train_hist, val_hist"
      ],
      "metadata": {
        "id": "-kFN0eHcKNQX"
      },
      "execution_count": 93,
      "outputs": []
    },
    {
      "cell_type": "code",
      "source": [
        "model_lstm = LSTM(\n",
        "    n_features=1,\n",
        "    n_hidden=4,\n",
        "    seq_len=seq_length,\n",
        "    n_layers=1)\n",
        "print(model_lstm)"
      ],
      "metadata": {
        "colab": {
          "base_uri": "https://localhost:8080/"
        },
        "id": "jPI1u1nzMpQ9",
        "outputId": "26ea5dff-66ad-4012-b83b-51ae8850bdaa"
      },
      "execution_count": 94,
      "outputs": [
        {
          "output_type": "stream",
          "name": "stdout",
          "text": [
            "LSTM(\n",
            "  (lstm): LSTM(1, 4)\n",
            "  (linear): Linear(in_features=4, out_features=1, bias=True)\n",
            ")\n"
          ]
        }
      ]
    },
    {
      "cell_type": "code",
      "source": [
        "model_lstm, train_hist, val_hist = train_model(\n",
        "    model_lstm,\n",
        "    X_train,\n",
        "    y_train,\n",
        "    X_val,\n",
        "    y_val,\n",
        "    num_epochs=110,\n",
        "    verbose=10,\n",
        "    patience=50)"
      ],
      "metadata": {
        "colab": {
          "base_uri": "https://localhost:8080/"
        },
        "id": "MeJVM6MpM3Cx",
        "outputId": "4732cc64-8008-4371-bdb0-10a5c98ee04d"
      },
      "execution_count": 95,
      "outputs": [
        {
          "output_type": "stream",
          "name": "stdout",
          "text": [
            "Epoch 0 train loss: 0.38774918458041024 val loss: 0.3719581663608551\n",
            "Epoch 10 train loss: 0.13747822612273594 val loss: 0.03968784958124161\n",
            "Epoch 20 train loss: 0.05252446988675775 val loss: 0.02777111530303955\n",
            "Epoch 30 train loss: 0.053179635533264706 val loss: 0.025036698207259178\n",
            "Epoch 40 train loss: 0.05194841851206387 val loss: 0.024706387892365456\n",
            "Epoch 50 train loss: 0.0523471681385481 val loss: 0.025119632482528687\n",
            "Epoch 60 train loss: 0.05181937955883371 val loss: 0.027473222464323044\n",
            "Epoch 70 train loss: 0.05187551298436998 val loss: 0.02479904145002365\n",
            "Epoch 80 train loss: 0.05151790781181399 val loss: 0.025046272203326225\n",
            "Epoch 90 train loss: 0.05332857116806407 val loss: 0.02460918202996254\n",
            "Epoch 100 train loss: 0.05355756917670995 val loss: 0.026534946635365486\n",
            "\n",
            " Early Stopping\n"
          ]
        }
      ]
    },
    {
      "cell_type": "code",
      "source": [
        "plt.plot(train_hist, label=\"Training loss\")\n",
        "plt.plot(val_hist, label=\"Val loss\")\n",
        "plt.legend()"
      ],
      "metadata": {
        "colab": {
          "base_uri": "https://localhost:8080/",
          "height": 456
        },
        "id": "Et9PhkydNSOD",
        "outputId": "416e23d6-e7d6-4fa4-8e8e-745d3fe03557"
      },
      "execution_count": 96,
      "outputs": [
        {
          "output_type": "execute_result",
          "data": {
            "text/plain": [
              "<matplotlib.legend.Legend at 0x7f3d377383d0>"
            ]
          },
          "metadata": {},
          "execution_count": 96
        },
        {
          "output_type": "display_data",
          "data": {
            "text/plain": [
              "<Figure size 640x480 with 1 Axes>"
            ],
            "image/png": "[encoded data removed]"
          },
          "metadata": {}
        }
      ]
    },
    {
      "cell_type": "code",
      "source": [
        "from sklearn.metrics import mean_absolute_error, mean_squared_error, r2_score\n",
        "\n",
        "def evaluate(y_test, y_pred):\n",
        "    print('* MAE:', mean_absolute_error(y_test, y_pred))\n",
        "    print('* RMSE:', np.sqrt(mean_squared_error(y_test, y_pred)))\n",
        "    print('* R_Square:', r2_score(y_test, y_pred))"
      ],
      "metadata": {
        "id": "YSz0FXveNa5u"
      },
      "execution_count": 45,
      "outputs": []
    },
    {
      "cell_type": "code",
      "source": [
        "evaluate(np.array(y_test)*MAX, np.array(preds_lstm)*MAX)"
      ],
      "metadata": {
        "colab": {
          "base_uri": "https://localhost:8080/"
        },
        "id": "iYFERWg3Nsq9",
        "outputId": "996c8838-7dda-4c99-d35c-435a5b900171"
      },
      "execution_count": 98,
      "outputs": [
        {
          "output_type": "stream",
          "name": "stdout",
          "text": [
            "* MAE: 3.7562823851903278\n",
            "* RMSE: 6.283758642109284\n",
            "* R_Square: 0.7231798710513482\n"
          ]
        }
      ]
    },
    {
      "cell_type": "markdown",
      "source": [
        "* MAE: 3.599898036321004\n",
        "* RMSE: 10.980960673532994\n",
        "* R_Square: 0.033191145610278805"
      ],
      "metadata": {
        "id": "I0O5ji4DSjXX"
      }
    },
    {
      "cell_type": "code",
      "source": [
        "pred_dataset = X_test\n",
        "\n",
        "with torch.no_grad():\n",
        "    preds_lstm = []\n",
        "    for _ in range(len(pred_dataset)):\n",
        "        model_lstm.reset_hidden_state()\n",
        "        y_test_pred = model_lstm(torch.unsqueeze(pred_dataset[_], 0))\n",
        "        pred = torch.flatten(y_test_pred).item()\n",
        "        preds_lstm.append(pred)"
      ],
      "metadata": {
        "id": "GE5sPo9SNo_P"
      },
      "execution_count": 97,
      "outputs": []
    },
    {
      "cell_type": "code",
      "source": [
        "from sklearn.metrics import mean_squared_error, mean_absolute_error, r2_score\n",
        "import numpy as np\n",
        "\n",
        "# RMSE (Root Mean Squared Error) 계산\n",
        "rmse = np.sqrt(mean_squared_error(y_test, y_pred))\n",
        "\n",
        "# MAE (Mean Absolute Error) 계산\n",
        "mae = mean_absolute_error(y_test, y_pred)\n",
        "\n",
        "# R^2 (결정 계수) 계산\n",
        "r2 = r2_score(y_test, y_pred)\n",
        "\n",
        "# 결과 출력\n",
        "print(f\"RMSE: {rmse:.4f}\")\n",
        "print(f\"MAE: {mae:.4f}\")\n",
        "print(f\"R^2: {r2:.4f}\")"
      ],
      "metadata": {
        "colab": {
          "base_uri": "https://localhost:8080/"
        },
        "id": "Qbg30aKQsFBW",
        "outputId": "9eaca195-75ee-45e7-fd49-8819d322cff1"
      },
      "execution_count": null,
      "outputs": [
        {
          "output_type": "stream",
          "name": "stdout",
          "text": [
            "RMSE: 8.5455\n",
            "MAE: 7.3921\n",
            "R^2: -26.4299\n"
          ]
        }
      ]
    },
    {
      "cell_type": "code",
      "source": [],
      "metadata": {
        "id": "vWOEifDvs5PA"
      },
      "execution_count": null,
      "outputs": []
    }
  ]
}