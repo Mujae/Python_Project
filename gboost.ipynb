{
  "cells": [
    {
      "cell_type": "code",
      "execution_count": 24,
      "id": "7cfc6b30",
      "metadata": {
        "scrolled": true,
        "colab": {
          "base_uri": "https://localhost:8080/",
          "height": 334
        },
        "id": "7cfc6b30",
        "outputId": "9eb67273-cd99-4267-dbe5-2f359dad405b"
      },
      "outputs": [
        {
          "output_type": "execute_result",
          "data": {
            "text/plain": [
              "   Blue Mastery 1  Blue Mastery 2  Blue Mastery 3  Blue Mastery 4  \\\n",
              "0          302361           32548          137831           42344   \n",
              "1          244724           55894          166393          151398   \n",
              "2         1370461          165699          328554           11922   \n",
              "3          859153            8207          152833           30736   \n",
              "4          295938          326564         1812645           64742   \n",
              "\n",
              "   Blue Mastery 5  Blue Masteries Avg  Blue Masteries Median  \\\n",
              "0         2594552            621927.2               137831.0   \n",
              "1           17928            127267.4               151398.0   \n",
              "2           64623            388251.8               165699.0   \n",
              "3           94462            229078.2                94462.0   \n",
              "4           83541            516686.0               295938.0   \n",
              "\n",
              "   Blue Masteries Kurtorsis  Blue Masteries Skewness  Blue Masteries Std  ...  \\\n",
              "0                  4.804286                 2.183943       991060.524461  ...   \n",
              "1                 -1.336965                 0.013165        81189.183929  ...   \n",
              "2                  4.066366                 1.991324       502829.634615  ...   \n",
              "3                  4.494974                 2.098720       319077.677286  ...   \n",
              "4                  4.480466                 2.090117       656696.848512  ...   \n",
              "\n",
              "   Red Winrate 3  Red Winrate 4  Red Winrate 5  Red Winrates Avg  \\\n",
              "0       0.485714       0.333333       0.588384          0.511934   \n",
              "1       0.551136       0.641509       0.500000          0.589079   \n",
              "2       0.631579       0.535714       0.529412          0.580125   \n",
              "3       0.142857       0.515789       0.523632          0.336456   \n",
              "4       0.565284       0.600000       0.416667          0.547907   \n",
              "\n",
              "   Red Winrates Median  Red Winrates Kurtorsis  Red Winrates Skewness  \\\n",
              "0             0.552239                1.755027              -1.441162   \n",
              "1             0.551136               -0.950929               0.766032   \n",
              "2             0.535714               -0.171439               0.832254   \n",
              "3             0.500000               -2.252575              -0.789161   \n",
              "4             0.565284               -1.091492               0.001576   \n",
              "\n",
              "   Red Winrates Std  Red Winrates Variance  Blue Won  \n",
              "0          0.097786               0.009562         0  \n",
              "1          0.077926               0.006073         0  \n",
              "2          0.092372               0.008533         0  \n",
              "3          0.221190               0.048925         1  \n",
              "4          0.094206               0.008875         1  \n",
              "\n",
              "[5 rows x 45 columns]"
            ],
            "text/html": [
              "\n",
              "  <div id=\"df-410bf5eb-f381-4754-b01c-8a8558fc3865\">\n",
              "    <div class=\"colab-df-container\">\n",
              "      <div>\n",
              "<style scoped>\n",
              "    .dataframe tbody tr th:only-of-type {\n",
              "        vertical-align: middle;\n",
              "    }\n",
              "\n",
              "    .dataframe tbody tr th {\n",
              "        vertical-align: top;\n",
              "    }\n",
              "\n",
              "    .dataframe thead th {\n",
              "        text-align: right;\n",
              "    }\n",
              "</style>\n",
              "<table border=\"1\" class=\"dataframe\">\n",
              "  <thead>\n",
              "    <tr style=\"text-align: right;\">\n",
              "      <th></th>\n",
              "      <th>Blue Mastery 1</th>\n",
              "      <th>Blue Mastery 2</th>\n",
              "      <th>Blue Mastery 3</th>\n",
              "      <th>Blue Mastery 4</th>\n",
              "      <th>Blue Mastery 5</th>\n",
              "      <th>Blue Masteries Avg</th>\n",
              "      <th>Blue Masteries Median</th>\n",
              "      <th>Blue Masteries Kurtorsis</th>\n",
              "      <th>Blue Masteries Skewness</th>\n",
              "      <th>Blue Masteries Std</th>\n",
              "      <th>...</th>\n",
              "      <th>Red Winrate 3</th>\n",
              "      <th>Red Winrate 4</th>\n",
              "      <th>Red Winrate 5</th>\n",
              "      <th>Red Winrates Avg</th>\n",
              "      <th>Red Winrates Median</th>\n",
              "      <th>Red Winrates Kurtorsis</th>\n",
              "      <th>Red Winrates Skewness</th>\n",
              "      <th>Red Winrates Std</th>\n",
              "      <th>Red Winrates Variance</th>\n",
              "      <th>Blue Won</th>\n",
              "    </tr>\n",
              "  </thead>\n",
              "  <tbody>\n",
              "    <tr>\n",
              "      <th>0</th>\n",
              "      <td>302361</td>\n",
              "      <td>32548</td>\n",
              "      <td>137831</td>\n",
              "      <td>42344</td>\n",
              "      <td>2594552</td>\n",
              "      <td>621927.2</td>\n",
              "      <td>137831.0</td>\n",
              "      <td>4.804286</td>\n",
              "      <td>2.183943</td>\n",
              "      <td>991060.524461</td>\n",
              "      <td>...</td>\n",
              "      <td>0.485714</td>\n",
              "      <td>0.333333</td>\n",
              "      <td>0.588384</td>\n",
              "      <td>0.511934</td>\n",
              "      <td>0.552239</td>\n",
              "      <td>1.755027</td>\n",
              "      <td>-1.441162</td>\n",
              "      <td>0.097786</td>\n",
              "      <td>0.009562</td>\n",
              "      <td>0</td>\n",
              "    </tr>\n",
              "    <tr>\n",
              "      <th>1</th>\n",
              "      <td>244724</td>\n",
              "      <td>55894</td>\n",
              "      <td>166393</td>\n",
              "      <td>151398</td>\n",
              "      <td>17928</td>\n",
              "      <td>127267.4</td>\n",
              "      <td>151398.0</td>\n",
              "      <td>-1.336965</td>\n",
              "      <td>0.013165</td>\n",
              "      <td>81189.183929</td>\n",
              "      <td>...</td>\n",
              "      <td>0.551136</td>\n",
              "      <td>0.641509</td>\n",
              "      <td>0.500000</td>\n",
              "      <td>0.589079</td>\n",
              "      <td>0.551136</td>\n",
              "      <td>-0.950929</td>\n",
              "      <td>0.766032</td>\n",
              "      <td>0.077926</td>\n",
              "      <td>0.006073</td>\n",
              "      <td>0</td>\n",
              "    </tr>\n",
              "    <tr>\n",
              "      <th>2</th>\n",
              "      <td>1370461</td>\n",
              "      <td>165699</td>\n",
              "      <td>328554</td>\n",
              "      <td>11922</td>\n",
              "      <td>64623</td>\n",
              "      <td>388251.8</td>\n",
              "      <td>165699.0</td>\n",
              "      <td>4.066366</td>\n",
              "      <td>1.991324</td>\n",
              "      <td>502829.634615</td>\n",
              "      <td>...</td>\n",
              "      <td>0.631579</td>\n",
              "      <td>0.535714</td>\n",
              "      <td>0.529412</td>\n",
              "      <td>0.580125</td>\n",
              "      <td>0.535714</td>\n",
              "      <td>-0.171439</td>\n",
              "      <td>0.832254</td>\n",
              "      <td>0.092372</td>\n",
              "      <td>0.008533</td>\n",
              "      <td>0</td>\n",
              "    </tr>\n",
              "    <tr>\n",
              "      <th>3</th>\n",
              "      <td>859153</td>\n",
              "      <td>8207</td>\n",
              "      <td>152833</td>\n",
              "      <td>30736</td>\n",
              "      <td>94462</td>\n",
              "      <td>229078.2</td>\n",
              "      <td>94462.0</td>\n",
              "      <td>4.494974</td>\n",
              "      <td>2.098720</td>\n",
              "      <td>319077.677286</td>\n",
              "      <td>...</td>\n",
              "      <td>0.142857</td>\n",
              "      <td>0.515789</td>\n",
              "      <td>0.523632</td>\n",
              "      <td>0.336456</td>\n",
              "      <td>0.500000</td>\n",
              "      <td>-2.252575</td>\n",
              "      <td>-0.789161</td>\n",
              "      <td>0.221190</td>\n",
              "      <td>0.048925</td>\n",
              "      <td>1</td>\n",
              "    </tr>\n",
              "    <tr>\n",
              "      <th>4</th>\n",
              "      <td>295938</td>\n",
              "      <td>326564</td>\n",
              "      <td>1812645</td>\n",
              "      <td>64742</td>\n",
              "      <td>83541</td>\n",
              "      <td>516686.0</td>\n",
              "      <td>295938.0</td>\n",
              "      <td>4.480466</td>\n",
              "      <td>2.090117</td>\n",
              "      <td>656696.848512</td>\n",
              "      <td>...</td>\n",
              "      <td>0.565284</td>\n",
              "      <td>0.600000</td>\n",
              "      <td>0.416667</td>\n",
              "      <td>0.547907</td>\n",
              "      <td>0.565284</td>\n",
              "      <td>-1.091492</td>\n",
              "      <td>0.001576</td>\n",
              "      <td>0.094206</td>\n",
              "      <td>0.008875</td>\n",
              "      <td>1</td>\n",
              "    </tr>\n",
              "  </tbody>\n",
              "</table>\n",
              "<p>5 rows × 45 columns</p>\n",
              "</div>\n",
              "      <button class=\"colab-df-convert\" onclick=\"convertToInteractive('df-410bf5eb-f381-4754-b01c-8a8558fc3865')\"\n",
              "              title=\"Convert this dataframe to an interactive table.\"\n",
              "              style=\"display:none;\">\n",
              "        \n",
              "  <svg xmlns=\"http://www.w3.org/2000/svg\" height=\"24px\"viewBox=\"0 0 24 24\"\n",
              "       width=\"24px\">\n",
              "    <path d=\"M0 0h24v24H0V0z\" fill=\"none\"/>\n",
              "    <path d=\"M18.56 5.44l.94 2.06.94-2.06 2.06-.94-2.06-.94-.94-2.06-.94 2.06-2.06.94zm-11 1L8.5 8.5l.94-2.06 2.06-.94-2.06-.94L8.5 2.5l-.94 2.06-2.06.94zm10 10l.94 2.06.94-2.06 2.06-.94-2.06-.94-.94-2.06-.94 2.06-2.06.94z\"/><path d=\"M17.41 7.96l-1.37-1.37c-.4-.4-.92-.59-1.43-.59-.52 0-1.04.2-1.43.59L10.3 9.45l-7.72 7.72c-.78.78-.78 2.05 0 2.83L4 21.41c.39.39.9.59 1.41.59.51 0 1.02-.2 1.41-.59l7.78-7.78 2.81-2.81c.8-.78.8-2.07 0-2.86zM5.41 20L4 18.59l7.72-7.72 1.47 1.35L5.41 20z\"/>\n",
              "  </svg>\n",
              "      </button>\n",
              "      \n",
              "  <style>\n",
              "    .colab-df-container {\n",
              "      display:flex;\n",
              "      flex-wrap:wrap;\n",
              "      gap: 12px;\n",
              "    }\n",
              "\n",
              "    .colab-df-convert {\n",
              "      background-color: #E8F0FE;\n",
              "      border: none;\n",
              "      border-radius: 50%;\n",
              "      cursor: pointer;\n",
              "      display: none;\n",
              "      fill: #1967D2;\n",
              "      height: 32px;\n",
              "      padding: 0 0 0 0;\n",
              "      width: 32px;\n",
              "    }\n",
              "\n",
              "    .colab-df-convert:hover {\n",
              "      background-color: #E2EBFA;\n",
              "      box-shadow: 0px 1px 2px rgba(60, 64, 67, 0.3), 0px 1px 3px 1px rgba(60, 64, 67, 0.15);\n",
              "      fill: #174EA6;\n",
              "    }\n",
              "\n",
              "    [theme=dark] .colab-df-convert {\n",
              "      background-color: #3B4455;\n",
              "      fill: #D2E3FC;\n",
              "    }\n",
              "\n",
              "    [theme=dark] .colab-df-convert:hover {\n",
              "      background-color: #434B5C;\n",
              "      box-shadow: 0px 1px 3px 1px rgba(0, 0, 0, 0.15);\n",
              "      filter: drop-shadow(0px 1px 2px rgba(0, 0, 0, 0.3));\n",
              "      fill: #FFFFFF;\n",
              "    }\n",
              "  </style>\n",
              "\n",
              "      <script>\n",
              "        const buttonEl =\n",
              "          document.querySelector('#df-410bf5eb-f381-4754-b01c-8a8558fc3865 button.colab-df-convert');\n",
              "        buttonEl.style.display =\n",
              "          google.colab.kernel.accessAllowed ? 'block' : 'none';\n",
              "\n",
              "        async function convertToInteractive(key) {\n",
              "          const element = document.querySelector('#df-410bf5eb-f381-4754-b01c-8a8558fc3865');\n",
              "          const dataTable =\n",
              "            await google.colab.kernel.invokeFunction('convertToInteractive',\n",
              "                                                     [key], {});\n",
              "          if (!dataTable) return;\n",
              "\n",
              "          const docLinkHtml = 'Like what you see? Visit the ' +\n",
              "            '<a target=\"_blank\" href=https://colab.research.google.com/notebooks/data_table.ipynb>data table notebook</a>'\n",
              "            + ' to learn more about interactive tables.';\n",
              "          element.innerHTML = '';\n",
              "          dataTable['output_type'] = 'display_data';\n",
              "          await google.colab.output.renderOutput(dataTable, element);\n",
              "          const docLink = document.createElement('div');\n",
              "          docLink.innerHTML = docLinkHtml;\n",
              "          element.appendChild(docLink);\n",
              "        }\n",
              "      </script>\n",
              "    </div>\n",
              "  </div>\n",
              "  "
            ]
          },
          "metadata": {},
          "execution_count": 24
        }
      ],
      "source": [
        "import pandas as pd\n",
        "import numpy as np\n",
        "\n",
        "kor_df = pd.read_csv(\"/content/drive/MyDrive/챔프경험기반 승률예측 프로젝트 클론코딩/ML-Prediction-LoL-master/kor_dataset.csv\")\n",
        "na_df = pd.read_csv(\"/content/drive/MyDrive/챔프경험기반 승률예측 프로젝트 클론코딩/ML-Prediction-LoL-master/na_dataset.csv\")\n",
        "\n",
        "kor_df.head()\n"
      ]
    },
    {
      "cell_type": "code",
      "source": [
        "from google.colab import drive\n",
        "drive.mount('/content/drive')"
      ],
      "metadata": {
        "colab": {
          "base_uri": "https://localhost:8080/"
        },
        "id": "ml7edcnuZFvy",
        "outputId": "8c516bc7-82ed-4270-9a22-c661b69617dd"
      },
      "id": "ml7edcnuZFvy",
      "execution_count": 19,
      "outputs": [
        {
          "output_type": "stream",
          "name": "stdout",
          "text": [
            "Drive already mounted at /content/drive; to attempt to forcibly remount, call drive.mount(\"/content/drive\", force_remount=True).\n"
          ]
        }
      ]
    },
    {
      "cell_type": "code",
      "execution_count": 25,
      "id": "244c6313",
      "metadata": {
        "colab": {
          "base_uri": "https://localhost:8080/"
        },
        "id": "244c6313",
        "outputId": "1b3dcca5-ee19-4f5b-814c-aa235d93e90a"
      },
      "outputs": [
        {
          "output_type": "execute_result",
          "data": {
            "text/plain": [
              "((17010, 44), (17010,))"
            ]
          },
          "metadata": {},
          "execution_count": 25
        }
      ],
      "source": [
        "frames = [kor_df,na_df]\n",
        "\n",
        "result = pd.concat(frames)\n",
        "\n",
        "# 전체 데이터 프레임 변환\n",
        "dataset = result.to_numpy()\n",
        "\n",
        "np.random.shuffle(dataset)\n",
        "\n",
        "X = dataset[:, 0:44]\n",
        "Y = dataset[:, 44]\n",
        "\n",
        "X.shape, Y.shape\n"
      ]
    },
    {
      "cell_type": "markdown",
      "id": "fe770d41",
      "metadata": {
        "id": "fe770d41"
      },
      "source": [
        "#그리디언트 부스트"
      ]
    },
    {
      "cell_type": "code",
      "execution_count": 26,
      "id": "a0d38a5f",
      "metadata": {
        "id": "a0d38a5f"
      },
      "outputs": [],
      "source": [
        "from sklearn.ensemble import GradientBoostingClassifier\n",
        "\n",
        "model = GradientBoostingClassifier(n_estimators=55, learning_rate=0.14)\n"
      ]
    },
    {
      "cell_type": "markdown",
      "id": "99c2df64",
      "metadata": {
        "id": "99c2df64"
      },
      "source": [
        "#k 폴드 검증\n",
        "\n"
      ]
    },
    {
      "cell_type": "code",
      "execution_count": 27,
      "id": "76e13f7e",
      "metadata": {
        "colab": {
          "base_uri": "https://localhost:8080/"
        },
        "id": "76e13f7e",
        "outputId": "30ab5820-3e12-4e60-e3e3-3dd4f6da3b18"
      },
      "outputs": [
        {
          "output_type": "stream",
          "name": "stdout",
          "text": [
            "List of possible accuracy: [88.53615520282186, 89.0652557319224, 89.7119341563786, 90.29982363315696, 88.88888888888889, 88.88888888888889, 90.06466784244563, 89.7119341563786, 88.77131099353322, 90.1822457378013]\n",
            "\n",
            "Maximum Accuracy: 90.30%\n",
            "\n",
            "Minimum Accuracy: 88.54%\n",
            "\n",
            "Overall Accuracy: 89.41%\n",
            "\n",
            "Standard Deviation is: 0.62%\n",
            "\n",
            "Standard Error is: 0.21%\n"
          ]
        }
      ],
      "source": [
        "from sklearn.model_selection import StratifiedKFold\n",
        "from sklearn.metrics import accuracy_score\n",
        "from scipy.stats import sem\n",
        "\n",
        "accuracy = []\n",
        "\n",
        "#k폴드 검증 객체 생성\n",
        "skf = StratifiedKFold(n_splits=10, random_state=None)\n",
        "\n",
        "for train_index, test_index in skf.split(X, Y):\n",
        "    x_train_fold, x_test_fold = X[train_index], X[test_index]\n",
        "    y_train_fold, y_test_fold = Y[train_index], Y[test_index]\n",
        "\n",
        "    model.fit(x_train_fold, y_train_fold)\n",
        "    prediction = model.predict(x_test_fold)\n",
        "    score = accuracy_score(prediction, y_test_fold)\n",
        "    accuracy.append(score * 100)\n",
        "\n",
        "\n",
        "print(\"List of possible accuracy: {}\".format(accuracy))\n",
        "print(\"\\nMaximum Accuracy: {:.2f}%\".format(max(accuracy)))\n",
        "print(\"\\nMinimum Accuracy: {:.2f}%\".format(min(accuracy)))\n",
        "print(\"\\nOverall Accuracy: {:.2f}%\".format(np.mean(accuracy)))\n",
        "print(\"\\nStandard Deviation is: {:.2f}%\".format(np.std(accuracy)))\n",
        "print(\"\\nStandard Error is: {:.2f}%\".format(sem(accuracy)))\n"
      ]
    },
    {
      "cell_type": "markdown",
      "id": "f052d2c1",
      "metadata": {
        "id": "f052d2c1"
      },
      "source": [
        "#데이터 세트를 kor에서 최종 훈련 및 테스트로 나누기\n",
        "\n"
      ]
    },
    {
      "cell_type": "code",
      "execution_count": 17,
      "id": "ca3351c9",
      "metadata": {
        "colab": {
          "base_uri": "https://localhost:8080/"
        },
        "id": "ca3351c9",
        "outputId": "1e5aabe6-e079-4488-9741-f1f71d90674b"
      },
      "outputs": [
        {
          "output_type": "stream",
          "name": "stdout",
          "text": [
            "x_train size: 12458\n",
            "y_train size: 12458\n",
            "x_test size: 12458\n",
            "y_test size: 12458\n",
            "Accuracy: 90.64%\n",
            "Confusion Matrix:\n",
            "[[5569  579]\n",
            " [ 587 5723]]\n",
            "Classification Report:\n",
            "              precision    recall  f1-score   support\n",
            "\n",
            "         0.0       0.90      0.91      0.91      6148\n",
            "         1.0       0.91      0.91      0.91      6310\n",
            "\n",
            "    accuracy                           0.91     12458\n",
            "   macro avg       0.91      0.91      0.91     12458\n",
            "weighted avg       0.91      0.91      0.91     12458\n",
            "\n"
          ]
        }
      ],
      "source": [
        "from sklearn.metrics import confusion_matrix, classification_report\n",
        "\n",
        "kor_dataset = kor_df.to_numpy()\n",
        "na_dataset = na_df.to_numpy()\n",
        "\n",
        "np.random.shuffle(kor_dataset)\n",
        "np.random.shuffle(na_dataset)\n",
        "\n",
        "x_train = kor_dataset[:, 0:44]\n",
        "y_train = kor_dataset[:, 44]\n",
        "\n",
        "x_test = na_dataset[:, 0:44]\n",
        "y_test = na_dataset[:, 44]\n",
        "\n",
        "print(f\"x_train size: {len(x_train)}\")\n",
        "print(f\"y_train size: {len(y_train)}\")\n",
        "\n",
        "print(f\"x_test size: {len(x_test)}\")\n",
        "print(f\"y_test size: {len(y_test)}\")\n",
        "\n",
        "model_final_test = GradientBoostingClassifier(n_estimators=55, learning_rate=0.14)\n",
        "model_final_test.fit(x_train, y_train)\n",
        "\n",
        "print(\"Accuracy: {:.2f}%\".format(model_final_test.score(x_test, y_test) * 100))\n",
        "\n",
        "predictions = model_final_test.predict(x_test)\n",
        "\n",
        "print(\"Confusion Matrix:\")\n",
        "print(confusion_matrix(y_test, predictions))\n",
        "\n",
        "print(\"Classification Report:\")\n",
        "print(classification_report(y_test, predictions))"
      ]
    },
    {
      "cell_type": "markdown",
      "id": "b70231bd",
      "metadata": {
        "id": "b70231bd"
      },
      "source": [
        "#마지막으로 최종 모델을 만들고 스트림라이트를 사용하여 라이브 게임 예측을 위해 저장"
      ]
    },
    {
      "cell_type": "code",
      "execution_count": 28,
      "id": "5cfa08c3",
      "metadata": {
        "colab": {
          "base_uri": "https://localhost:8080/"
        },
        "id": "5cfa08c3",
        "outputId": "1bfbd001-d0ff-4459-cfbd-5f6198f8f83b"
      },
      "outputs": [
        {
          "output_type": "execute_result",
          "data": {
            "text/plain": [
              "['finalized_model.sav']"
            ]
          },
          "metadata": {},
          "execution_count": 28
        }
      ],
      "source": [
        "import joblib\n",
        "\n",
        "model_final = GradientBoostingClassifier(n_estimators=55, learning_rate=0.14)\n",
        "model_final.fit(X, Y)\n",
        "\n",
        "filename = \"finalized_model.sav\"\n",
        "joblib.dump(model_final, filename)\n"
      ]
    },
    {
      "cell_type": "code",
      "source": [],
      "metadata": {
        "id": "Q0WxmrZcahkI"
      },
      "id": "Q0WxmrZcahkI",
      "execution_count": null,
      "outputs": []
    }
  ],
  "metadata": {
    "kernelspec": {
      "display_name": "Python 3 (ipykernel)",
      "language": "python",
      "name": "python3"
    },
    "language_info": {
      "codemirror_mode": {
        "name": "ipython",
        "version": 3
      },
      "file_extension": ".py",
      "mimetype": "text/x-python",
      "name": "python",
      "nbconvert_exporter": "python",
      "pygments_lexer": "ipython3",
      "version": "3.10.1"
    },
    "colab": {
      "provenance": []
    }
  },
  "nbformat": 4,
  "nbformat_minor": 5
}