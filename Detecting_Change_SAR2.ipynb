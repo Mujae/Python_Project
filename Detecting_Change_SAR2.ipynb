{
  "nbformat": 4,
  "nbformat_minor": 0,
  "metadata": {
    "colab": {
      "provenance": []
    },
    "kernelspec": {
      "name": "python3",
      "display_name": "Python 3"
    },
    "language_info": {
      "name": "python"
    }
  },
  "cells": [
    {
      "cell_type": "code",
      "execution_count": 1,
      "metadata": {
        "colab": {
          "base_uri": "https://localhost:8080/"
        },
        "id": "TnB_Dv7ZCGXh",
        "outputId": "ed7e8c1e-3748-4fc6-e9fd-6241a37cc6aa"
      },
      "outputs": [
        {
          "output_type": "stream",
          "name": "stdout",
          "text": [
            "To authorize access needed by Earth Engine, open the following URL in a web browser and follow the instructions. If the web browser does not start automatically, please manually browse the URL below.\n",
            "\n",
            "    https://code.earthengine.google.com/client-auth?scopes=https%3A//www.googleapis.com/auth/earthengine%20https%3A//www.googleapis.com/auth/devstorage.full_control&request_id=Iifde2mdwpDVlpNzsQV3Re0vKL6308OuAHAC9Zw3kKo&tc=QEndFrfH8G5JBxPO6KDlteUECuVnQf6GAKnlx8fHDTo&cc=nImyoAd8r9MiOfAGtyrqDJXTqmwL9L4e8gYuKqw7xPU\n",
            "\n",
            "The authorization workflow will generate a code, which you should paste in the box below.\n",
            "Enter verification code: 4/1AfJohXliEyVFLZFxb2Bt8t8gfrD4Iyj78Rk-2f_VWKErCSwkT_eMSk34iFQ\n",
            "\n",
            "Successfully saved authorization token.\n"
          ]
        }
      ],
      "source": [
        "import ee\n",
        "\n",
        "# Trigger the authentication flow.\n",
        "ee.Authenticate()\n",
        "\n",
        "# Initialize the library.\n",
        "ee.Initialize()"
      ]
    },
    {
      "cell_type": "code",
      "source": [
        "import matplotlib.pyplot as plt\n",
        "import numpy as np\n",
        "from scipy.stats import norm, gamma, f, chi2\n",
        "import IPython.display as disp\n",
        "%matplotlib inline"
      ],
      "metadata": {
        "id": "Gij9np1pCQSK"
      },
      "execution_count": 2,
      "outputs": []
    },
    {
      "cell_type": "code",
      "source": [
        "# Import the Folium library.\n",
        "import folium\n",
        "\n",
        "# Define a method for displaying Earth Engine image tiles to folium map.\n",
        "def add_ee_layer(self, ee_image_object, vis_params, name):\n",
        "  map_id_dict = ee.Image(ee_image_object).getMapId(vis_params)\n",
        "  folium.raster_layers.TileLayer(\n",
        "    tiles = map_id_dict['tile_fetcher'].url_format,\n",
        "    attr = 'Map Data &copy; <a href=\"https://earthengine.google.com/\">Google Earth Engine</a>',\n",
        "    name = name,\n",
        "    overlay = True,\n",
        "    control = True\n",
        "  ).add_to(self)\n",
        "\n",
        "# Add EE drawing method to folium.\n",
        "folium.Map.add_ee_layer = add_ee_layer"
      ],
      "metadata": {
        "id": "qYWq0COLC3gg"
      },
      "execution_count": 3,
      "outputs": []
    },
    {
      "cell_type": "code",
      "source": [
        "geoJSON = {\n",
        "  \"type\": \"FeatureCollection\",\n",
        "  \"features\": [\n",
        "    {\n",
        "      \"type\": \"Feature\",\n",
        "      \"properties\": {},\n",
        "      \"geometry\": {\n",
        "        \"type\": \"Polygon\",\n",
        "        \"coordinates\": [\n",
        "          [\n",
        "            [\n",
        "              8.473892211914062,\n",
        "              49.98081240937428\n",
        "            ],\n",
        "            [\n",
        "              8.658599853515625,\n",
        "              49.98081240937428\n",
        "            ],\n",
        "            [\n",
        "              8.658599853515625,\n",
        "              50.06066538593667\n",
        "            ],\n",
        "            [\n",
        "              8.473892211914062,\n",
        "              50.06066538593667\n",
        "            ],\n",
        "            [\n",
        "              8.473892211914062,\n",
        "              49.98081240937428\n",
        "            ]\n",
        "          ]\n",
        "        ]\n",
        "      }\n",
        "    }\n",
        "  ]\n",
        "}\n",
        "coords = geoJSON['features'][0]['geometry']['coordinates']\n",
        "aoi = ee.Geometry.Polygon(coords)\n",
        "geoJSON = {\n",
        "  \"type\": \"FeatureCollection\",\n",
        "  \"features\": [\n",
        "    {\n",
        "      \"type\": \"Feature\",\n",
        "      \"properties\": {},\n",
        "      \"geometry\": {\n",
        "        \"type\": \"Polygon\",\n",
        "        \"coordinates\": [\n",
        "          [\n",
        "            [\n",
        "              8.534317016601562,\n",
        "              50.021637833966786\n",
        "            ],\n",
        "            [\n",
        "              8.530540466308594,\n",
        "              49.99780882512238\n",
        "            ],\n",
        "            [\n",
        "              8.564186096191406,\n",
        "              50.00663576154257\n",
        "            ],\n",
        "            [\n",
        "              8.578605651855469,\n",
        "              50.019431940583104\n",
        "            ],\n",
        "            [\n",
        "              8.534317016601562,\n",
        "              50.021637833966786\n",
        "            ]\n",
        "          ]\n",
        "        ]\n",
        "      }\n",
        "    }\n",
        "  ]\n",
        "}\n",
        "coords = geoJSON['features'][0]['geometry']['coordinates']\n",
        "aoi_sub = ee.Geometry.Polygon(coords)"
      ],
      "metadata": {
        "id": "9bwBJyS1HnVq"
      },
      "execution_count": 4,
      "outputs": []
    },
    {
      "cell_type": "code",
      "source": [
        "coords"
      ],
      "metadata": {
        "colab": {
          "base_uri": "https://localhost:8080/"
        },
        "id": "PR0hTZAHTM1x",
        "outputId": "e19de1d3-2a17-46f8-8061-2b8c10a35a16"
      },
      "execution_count": 6,
      "outputs": [
        {
          "output_type": "execute_result",
          "data": {
            "text/plain": [
              "[[[8.534317016601562, 50.021637833966786],\n",
              "  [8.530540466308594, 49.99780882512238],\n",
              "  [8.564186096191406, 50.00663576154257],\n",
              "  [8.578605651855469, 50.019431940583104],\n",
              "  [8.534317016601562, 50.021637833966786]]]"
            ]
          },
          "metadata": {},
          "execution_count": 6
        }
      ]
    },
    {
      "cell_type": "code",
      "source": [
        "im_coll = (ee.ImageCollection('COPERNICUS/S1_GRD_FLOAT')\n",
        "                .filterBounds(aoi)\n",
        "                .filterDate(ee.Date('2020-08-01'),ee.Date('2020-08-31'))\n",
        "                .filter(ee.Filter.eq('orbitProperties_pass', 'ASCENDING'))\n",
        "                .filter(ee.Filter.eq('relativeOrbitNumber_start', 15))\n",
        "                .sort('system:time_start'))"
      ],
      "metadata": {
        "id": "Rq6PZANwHu6_"
      },
      "execution_count": 5,
      "outputs": []
    },
    {
      "cell_type": "code",
      "source": [
        "import time\n",
        "acq_times = im_coll.aggregate_array('system:time_start').getInfo()\n",
        "[time.strftime('%x', time.gmtime(acq_time/1000)) for acq_time in acq_times]"
      ],
      "metadata": {
        "colab": {
          "base_uri": "https://localhost:8080/"
        },
        "id": "a04oh_lTIDu9",
        "outputId": "42fa738a-d8e6-40a0-b424-9746839c4c34"
      },
      "execution_count": 10,
      "outputs": [
        {
          "output_type": "execute_result",
          "data": {
            "text/plain": [
              "['08/05/20', '08/11/20', '08/17/20', '08/23/20', '08/29/20']"
            ]
          },
          "metadata": {},
          "execution_count": 10
        }
      ]
    },
    {
      "cell_type": "code",
      "source": [
        "im_list = im_coll.toList(im_coll.size())\n",
        "im1 = ee.Image(im_list.get(0)).select('VV').clip(aoi_sub)\n",
        "im2 = ee.Image(im_list.get(1)).select('VV').clip(aoi_sub)"
      ],
      "metadata": {
        "id": "2u_XgCP5II5n"
      },
      "execution_count": 11,
      "outputs": []
    },
    {
      "cell_type": "code",
      "source": [
        "ratio = im1.divide(im2)\n",
        "url = ratio.getThumbURL({'min': 0, 'max': 10})\n",
        "disp.Image(url=url, width=800)"
      ],
      "metadata": {
        "colab": {
          "base_uri": "https://localhost:8080/",
          "height": 636
        },
        "id": "B_rhUWV3IP6i",
        "outputId": "679cc256-3d82-4734-c5b3-a1d379603c44"
      },
      "execution_count": 12,
      "outputs": [
        {
          "output_type": "execute_result",
          "data": {
            "text/html": [
              "<img src=\"https://earthengine.googleapis.com/v1/projects/earthengine-legacy/thumbnails/cc545e77643f5234eeb915156dbb34a3-23d99a0d9892d98805ade9006c135309:getPixels\" width=\"800\"/>"
            ],
            "text/plain": [
              "<IPython.core.display.Image object>"
            ]
          },
          "metadata": {},
          "execution_count": 12
        }
      ]
    },
    {
      "cell_type": "code",
      "source": [
        "hist = ratio.reduceRegion(ee.Reducer.fixedHistogram(0, 5, 500), aoi_sub).get('VV').getInfo()\n",
        "mean = ratio.reduceRegion(ee.Reducer.mean(), aoi_sub).get('VV').getInfo()\n",
        "variance = ratio.reduceRegion(ee.Reducer.variance(), aoi_sub).get('VV').getInfo()"
      ],
      "metadata": {
        "id": "nDf89LAdImcP"
      },
      "execution_count": 13,
      "outputs": []
    },
    {
      "cell_type": "code",
      "source": [
        "a = np.array(hist)\n",
        "x = a[:, 0]\n",
        "y = a[:, 1] / np.sum(a[:, 1])\n",
        "plt.grid()\n",
        "plt.plot(x, y, '.')\n",
        "plt.show()"
      ],
      "metadata": {
        "colab": {
          "base_uri": "https://localhost:8080/",
          "height": 430
        },
        "id": "I2sc77lUIuFU",
        "outputId": "2a46fb55-5749-4c8a-8584-77ff3fe8440f"
      },
      "execution_count": 14,
      "outputs": [
        {
          "output_type": "display_data",
          "data": {
            "text/plain": [
              "<Figure size 640x480 with 1 Axes>"
            ],
            "image/png": "[encoded data removed]"
          },
          "metadata": {}
        }
      ]
    },
    {
      "cell_type": "code",
      "source": [
        "m = 5\n",
        "plt.grid()\n",
        "plt.plot(x, y, '.', label='data')\n",
        "plt.plot(x, f.pdf(x, 2*m, 2*m) / 100, '-r', label='F-dist')\n",
        "plt.legend()\n",
        "plt.show()"
      ],
      "metadata": {
        "id": "fZsRraUsJFXR",
        "colab": {
          "base_uri": "https://localhost:8080/",
          "height": 430
        },
        "outputId": "a4ba88a5-9a2c-4fac-9e4a-507536956faf"
      },
      "execution_count": 15,
      "outputs": [
        {
          "output_type": "display_data",
          "data": {
            "text/plain": [
              "<Figure size 640x480 with 1 Axes>"
            ],
            "image/png": "[encoded data removed]"
          },
          "metadata": {}
        }
      ]
    },
    {
      "cell_type": "code",
      "source": [
        "im1 = ee.Image(im_list.get(0)).select('VV').clip(aoi)\n",
        "im2 = ee.Image(im_list.get(1)).select('VV').clip(aoi)\n",
        "ratio = im1.divide(im2)\n",
        "\n",
        "location = aoi.centroid().coordinates().getInfo()[::-1]\n",
        "mp = folium.Map(location=location, zoom_start=12)\n",
        "mp.add_ee_layer(ratio,\n",
        "                {'min': 0, 'max': 20, 'palette': ['black', 'white']}, 'Ratio')\n",
        "mp.add_child(folium.LayerControl())\n",
        "\n",
        "display(mp)"
      ],
      "metadata": {
        "colab": {
          "base_uri": "https://localhost:8080/",
          "height": 808
        },
        "id": "UFMMwUipbrJu",
        "outputId": "415954f8-3ff6-466c-9946-fd021664b4b1"
      },
      "execution_count": 16,
      "outputs": [
        {
          "output_type": "display_data",
          "data": {
            "text/plain": [
              "<folium.folium.Map at 0x7ae595a13f10>"
            ],
            "text/html": [
              "<div style=\"width:100%;\"><div style=\"position:relative;width:100%;height:0;padding-bottom:60%;\"><span style=\"color:#565656\">Make this Notebook Trusted to load map: File -> Trust Notebook</span><iframe srcdoc=\"&lt;!DOCTYPE html&gt;\n",
              "&lt;html&gt;\n",
              "&lt;head&gt;\n",
              "    \n",
              "    &lt;meta http-equiv=&quot;content-type&quot; content=&quot;text/html; charset=UTF-8&quot; /&gt;\n",
              "    \n",
              "        &lt;script&gt;\n",
              "            L_NO_TOUCH = false;\n",
              "            L_DISABLE_3D = false;\n",
              "        &lt;/script&gt;\n",
              "    \n",
              "    &lt;style&gt;html, body {width: 100%;height: 100%;margin: 0;padding: 0;}&lt;/style&gt;\n",
              "    &lt;style&gt;#map {position:absolute;top:0;bottom:0;right:0;left:0;}&lt;/style&gt;\n",
              "    &lt;script src=&quot;https://cdn.jsdelivr.net/npm/leaflet@1.9.3/dist/leaflet.js&quot;&gt;&lt;/script&gt;\n",
              "    &lt;script src=&quot;https://code.jquery.com/jquery-1.12.4.min.js&quot;&gt;&lt;/script&gt;\n",
              "    &lt;script src=&quot;https://cdn.jsdelivr.net/npm/bootstrap@5.2.2/dist/js/bootstrap.bundle.min.js&quot;&gt;&lt;/script&gt;\n",
              "    &lt;script src=&quot;https://cdnjs.cloudflare.com/ajax/libs/Leaflet.awesome-markers/2.0.2/leaflet.awesome-markers.js&quot;&gt;&lt;/script&gt;\n",
              "    &lt;link rel=&quot;stylesheet&quot; href=&quot;https://cdn.jsdelivr.net/npm/leaflet@1.9.3/dist/leaflet.css&quot;/&gt;\n",
              "    &lt;link rel=&quot;stylesheet&quot; href=&quot;https://cdn.jsdelivr.net/npm/bootstrap@5.2.2/dist/css/bootstrap.min.css&quot;/&gt;\n",
              "    &lt;link rel=&quot;stylesheet&quot; href=&quot;https://netdna.bootstrapcdn.com/bootstrap/3.0.0/css/bootstrap.min.css&quot;/&gt;\n",
              "    &lt;link rel=&quot;stylesheet&quot; href=&quot;https://cdn.jsdelivr.net/npm/@fortawesome/fontawesome-free@6.2.0/css/all.min.css&quot;/&gt;\n",
              "    &lt;link rel=&quot;stylesheet&quot; href=&quot;https://cdnjs.cloudflare.com/ajax/libs/Leaflet.awesome-markers/2.0.2/leaflet.awesome-markers.css&quot;/&gt;\n",
              "    &lt;link rel=&quot;stylesheet&quot; href=&quot;https://cdn.jsdelivr.net/gh/python-visualization/folium/folium/templates/leaflet.awesome.rotate.min.css&quot;/&gt;\n",
              "    \n",
              "            &lt;meta name=&quot;viewport&quot; content=&quot;width=device-width,\n",
              "                initial-scale=1.0, maximum-scale=1.0, user-scalable=no&quot; /&gt;\n",
              "            &lt;style&gt;\n",
              "                #map_b1a1156cf6fe0a423468f2188d142c7f {\n",
              "                    position: relative;\n",
              "                    width: 100.0%;\n",
              "                    height: 100.0%;\n",
              "                    left: 0.0%;\n",
              "                    top: 0.0%;\n",
              "                }\n",
              "                .leaflet-container { font-size: 1rem; }\n",
              "            &lt;/style&gt;\n",
              "        \n",
              "&lt;/head&gt;\n",
              "&lt;body&gt;\n",
              "    \n",
              "    \n",
              "            &lt;div class=&quot;folium-map&quot; id=&quot;map_b1a1156cf6fe0a423468f2188d142c7f&quot; &gt;&lt;/div&gt;\n",
              "        \n",
              "&lt;/body&gt;\n",
              "&lt;script&gt;\n",
              "    \n",
              "    \n",
              "            var map_b1a1156cf6fe0a423468f2188d142c7f = L.map(\n",
              "                &quot;map_b1a1156cf6fe0a423468f2188d142c7f&quot;,\n",
              "                {\n",
              "                    center: [50.02076448259734, 8.566246032714204],\n",
              "                    crs: L.CRS.EPSG3857,\n",
              "                    zoom: 12,\n",
              "                    zoomControl: true,\n",
              "                    preferCanvas: false,\n",
              "                }\n",
              "            );\n",
              "\n",
              "            \n",
              "\n",
              "        \n",
              "    \n",
              "            var tile_layer_7d4e4cfc395c0dc5228ba555ba5da690 = L.tileLayer(\n",
              "                &quot;https://{s}.tile.openstreetmap.org/{z}/{x}/{y}.png&quot;,\n",
              "                {&quot;attribution&quot;: &quot;Data by \\u0026copy; \\u003ca target=\\&quot;_blank\\&quot; href=\\&quot;http://openstreetmap.org\\&quot;\\u003eOpenStreetMap\\u003c/a\\u003e, under \\u003ca target=\\&quot;_blank\\&quot; href=\\&quot;http://www.openstreetmap.org/copyright\\&quot;\\u003eODbL\\u003c/a\\u003e.&quot;, &quot;detectRetina&quot;: false, &quot;maxNativeZoom&quot;: 18, &quot;maxZoom&quot;: 18, &quot;minZoom&quot;: 0, &quot;noWrap&quot;: false, &quot;opacity&quot;: 1, &quot;subdomains&quot;: &quot;abc&quot;, &quot;tms&quot;: false}\n",
              "            ).addTo(map_b1a1156cf6fe0a423468f2188d142c7f);\n",
              "        \n",
              "    \n",
              "            var tile_layer_5b0f253cb523fce492044ded94479fa1 = L.tileLayer(\n",
              "                &quot;https://earthengine.googleapis.com/v1/projects/earthengine-legacy/maps/5ec133cca34ac314e86e23f653701407-c044043674557a9cf5bfa86f2588099e/tiles/{z}/{x}/{y}&quot;,\n",
              "                {&quot;attribution&quot;: &quot;Map Data \\u0026copy; \\u003ca href=\\&quot;https://earthengine.google.com/\\&quot;\\u003eGoogle Earth Engine\\u003c/a\\u003e&quot;, &quot;detectRetina&quot;: false, &quot;maxNativeZoom&quot;: 18, &quot;maxZoom&quot;: 18, &quot;minZoom&quot;: 0, &quot;noWrap&quot;: false, &quot;opacity&quot;: 1, &quot;subdomains&quot;: &quot;abc&quot;, &quot;tms&quot;: false}\n",
              "            ).addTo(map_b1a1156cf6fe0a423468f2188d142c7f);\n",
              "        \n",
              "    \n",
              "            var layer_control_ef3b272ef518cb4fd4bc92a14c0628de = {\n",
              "                base_layers : {\n",
              "                    &quot;openstreetmap&quot; : tile_layer_7d4e4cfc395c0dc5228ba555ba5da690,\n",
              "                },\n",
              "                overlays :  {\n",
              "                    &quot;Ratio&quot; : tile_layer_5b0f253cb523fce492044ded94479fa1,\n",
              "                },\n",
              "            };\n",
              "            L.control.layers(\n",
              "                layer_control_ef3b272ef518cb4fd4bc92a14c0628de.base_layers,\n",
              "                layer_control_ef3b272ef518cb4fd4bc92a14c0628de.overlays,\n",
              "                {&quot;autoZIndex&quot;: true, &quot;collapsed&quot;: true, &quot;position&quot;: &quot;topright&quot;}\n",
              "            ).addTo(map_b1a1156cf6fe0a423468f2188d142c7f);\n",
              "        \n",
              "&lt;/script&gt;\n",
              "&lt;/html&gt;\" style=\"position:absolute;width:100%;height:100%;left:0;top:0;border:none !important;\" allowfullscreen webkitallowfullscreen mozallowfullscreen></iframe></div></div>"
            ]
          },
          "metadata": {}
        }
      ]
    },
    {
      "cell_type": "code",
      "source": [
        "# Decision threshold alpha/2:\n",
        "dt = f.ppf(0.0005, 2*m, 2*m)\n",
        "\n",
        "# LRT statistics.\n",
        "q1 = im1.divide(im2)\n",
        "q2 = im2.divide(im1)\n",
        "\n",
        "# Change map with 0 = no change, 1 = decrease, 2 = increase in intensity.\n",
        "c_map = im1.multiply(0).where(q2.lt(dt), 1)\n",
        "c_map = c_map.where(q1.lt(dt), 2)\n",
        "\n",
        "# Mask no-change pixels.\n",
        "c_map = c_map.updateMask(c_map.gt(0))\n",
        "\n",
        "# Display map with red for increase and blue for decrease in intensity.\n",
        "location = aoi.centroid().coordinates().getInfo()[::-1]\n",
        "mp = folium.Map(\n",
        "    location=location, tiles='Stamen Toner',\n",
        "    zoom_start=13)\n",
        "folium.TileLayer('OpenStreetMap').add_to(mp)\n",
        "mp.add_ee_layer(ratio,\n",
        "                {'min': 0, 'max': 20, 'palette': ['black', 'white']}, 'Ratio')\n",
        "mp.add_ee_layer(c_map,\n",
        "                {'min': 0, 'max': 2, 'palette': ['black', 'blue', 'red']},\n",
        "                'Change Map')\n",
        "mp.add_child(folium.LayerControl())\n",
        "\n",
        "display(mp)"
      ],
      "metadata": {
        "colab": {
          "base_uri": "https://localhost:8080/",
          "height": 808
        },
        "id": "M7iOmnm2iPiK",
        "outputId": "6e526ce4-2c68-4082-dd33-4b2ecbd9bf99"
      },
      "execution_count": 17,
      "outputs": [
        {
          "output_type": "display_data",
          "data": {
            "text/plain": [
              "<folium.folium.Map at 0x7ae59683aa70>"
            ],
            "text/html": [
              "<div style=\"width:100%;\"><div style=\"position:relative;width:100%;height:0;padding-bottom:60%;\"><span style=\"color:#565656\">Make this Notebook Trusted to load map: File -> Trust Notebook</span><iframe srcdoc=\"&lt;!DOCTYPE html&gt;\n",
              "&lt;html&gt;\n",
              "&lt;head&gt;\n",
              "    \n",
              "    &lt;meta http-equiv=&quot;content-type&quot; content=&quot;text/html; charset=UTF-8&quot; /&gt;\n",
              "    \n",
              "        &lt;script&gt;\n",
              "            L_NO_TOUCH = false;\n",
              "            L_DISABLE_3D = false;\n",
              "        &lt;/script&gt;\n",
              "    \n",
              "    &lt;style&gt;html, body {width: 100%;height: 100%;margin: 0;padding: 0;}&lt;/style&gt;\n",
              "    &lt;style&gt;#map {position:absolute;top:0;bottom:0;right:0;left:0;}&lt;/style&gt;\n",
              "    &lt;script src=&quot;https://cdn.jsdelivr.net/npm/leaflet@1.9.3/dist/leaflet.js&quot;&gt;&lt;/script&gt;\n",
              "    &lt;script src=&quot;https://code.jquery.com/jquery-1.12.4.min.js&quot;&gt;&lt;/script&gt;\n",
              "    &lt;script src=&quot;https://cdn.jsdelivr.net/npm/bootstrap@5.2.2/dist/js/bootstrap.bundle.min.js&quot;&gt;&lt;/script&gt;\n",
              "    &lt;script src=&quot;https://cdnjs.cloudflare.com/ajax/libs/Leaflet.awesome-markers/2.0.2/leaflet.awesome-markers.js&quot;&gt;&lt;/script&gt;\n",
              "    &lt;link rel=&quot;stylesheet&quot; href=&quot;https://cdn.jsdelivr.net/npm/leaflet@1.9.3/dist/leaflet.css&quot;/&gt;\n",
              "    &lt;link rel=&quot;stylesheet&quot; href=&quot;https://cdn.jsdelivr.net/npm/bootstrap@5.2.2/dist/css/bootstrap.min.css&quot;/&gt;\n",
              "    &lt;link rel=&quot;stylesheet&quot; href=&quot;https://netdna.bootstrapcdn.com/bootstrap/3.0.0/css/bootstrap.min.css&quot;/&gt;\n",
              "    &lt;link rel=&quot;stylesheet&quot; href=&quot;https://cdn.jsdelivr.net/npm/@fortawesome/fontawesome-free@6.2.0/css/all.min.css&quot;/&gt;\n",
              "    &lt;link rel=&quot;stylesheet&quot; href=&quot;https://cdnjs.cloudflare.com/ajax/libs/Leaflet.awesome-markers/2.0.2/leaflet.awesome-markers.css&quot;/&gt;\n",
              "    &lt;link rel=&quot;stylesheet&quot; href=&quot;https://cdn.jsdelivr.net/gh/python-visualization/folium/folium/templates/leaflet.awesome.rotate.min.css&quot;/&gt;\n",
              "    \n",
              "            &lt;meta name=&quot;viewport&quot; content=&quot;width=device-width,\n",
              "                initial-scale=1.0, maximum-scale=1.0, user-scalable=no&quot; /&gt;\n",
              "            &lt;style&gt;\n",
              "                #map_6c8a7181b1c4fb2b24d2b4c58b94a140 {\n",
              "                    position: relative;\n",
              "                    width: 100.0%;\n",
              "                    height: 100.0%;\n",
              "                    left: 0.0%;\n",
              "                    top: 0.0%;\n",
              "                }\n",
              "                .leaflet-container { font-size: 1rem; }\n",
              "            &lt;/style&gt;\n",
              "        \n",
              "&lt;/head&gt;\n",
              "&lt;body&gt;\n",
              "    \n",
              "    \n",
              "            &lt;div class=&quot;folium-map&quot; id=&quot;map_6c8a7181b1c4fb2b24d2b4c58b94a140&quot; &gt;&lt;/div&gt;\n",
              "        \n",
              "&lt;/body&gt;\n",
              "&lt;script&gt;\n",
              "    \n",
              "    \n",
              "            var map_6c8a7181b1c4fb2b24d2b4c58b94a140 = L.map(\n",
              "                &quot;map_6c8a7181b1c4fb2b24d2b4c58b94a140&quot;,\n",
              "                {\n",
              "                    center: [50.02076448259734, 8.566246032714204],\n",
              "                    crs: L.CRS.EPSG3857,\n",
              "                    zoom: 13,\n",
              "                    zoomControl: true,\n",
              "                    preferCanvas: false,\n",
              "                }\n",
              "            );\n",
              "\n",
              "            \n",
              "\n",
              "        \n",
              "    \n",
              "            var tile_layer_252e5693bb06675576bde44d6a509b07 = L.tileLayer(\n",
              "                &quot;https://stamen-tiles-{s}.a.ssl.fastly.net/toner/{z}/{x}/{y}.png&quot;,\n",
              "                {&quot;attribution&quot;: &quot;Map tiles by \\u003ca target=\\&quot;_blank\\&quot; href=\\&quot;http://stamen.com\\&quot;\\u003eStamen Design\\u003c/a\\u003e, under \\u003ca target=\\&quot;_blank\\&quot; href=\\&quot;http://creativecommons.org/licenses/by/3.0\\&quot;\\u003eCC BY 3.0\\u003c/a\\u003e. Data by \\u0026copy; \\u003ca target=\\&quot;_blank\\&quot; href=\\&quot;http://openstreetmap.org\\&quot;\\u003eOpenStreetMap\\u003c/a\\u003e, under \\u003ca target=\\&quot;_blank\\&quot; href=\\&quot;http://www.openstreetmap.org/copyright\\&quot;\\u003eODbL\\u003c/a\\u003e.&quot;, &quot;detectRetina&quot;: false, &quot;maxNativeZoom&quot;: 18, &quot;maxZoom&quot;: 18, &quot;minZoom&quot;: 0, &quot;noWrap&quot;: false, &quot;opacity&quot;: 1, &quot;subdomains&quot;: &quot;abc&quot;, &quot;tms&quot;: false}\n",
              "            ).addTo(map_6c8a7181b1c4fb2b24d2b4c58b94a140);\n",
              "        \n",
              "    \n",
              "            var tile_layer_18021903232a5fcbb5adf79c5d5e9d19 = L.tileLayer(\n",
              "                &quot;https://{s}.tile.openstreetmap.org/{z}/{x}/{y}.png&quot;,\n",
              "                {&quot;attribution&quot;: &quot;Data by \\u0026copy; \\u003ca target=\\&quot;_blank\\&quot; href=\\&quot;http://openstreetmap.org\\&quot;\\u003eOpenStreetMap\\u003c/a\\u003e, under \\u003ca target=\\&quot;_blank\\&quot; href=\\&quot;http://www.openstreetmap.org/copyright\\&quot;\\u003eODbL\\u003c/a\\u003e.&quot;, &quot;detectRetina&quot;: false, &quot;maxNativeZoom&quot;: 18, &quot;maxZoom&quot;: 18, &quot;minZoom&quot;: 0, &quot;noWrap&quot;: false, &quot;opacity&quot;: 1, &quot;subdomains&quot;: &quot;abc&quot;, &quot;tms&quot;: false}\n",
              "            ).addTo(map_6c8a7181b1c4fb2b24d2b4c58b94a140);\n",
              "        \n",
              "    \n",
              "            var tile_layer_9d90019e2dc2430495cafaafda63f246 = L.tileLayer(\n",
              "                &quot;https://earthengine.googleapis.com/v1/projects/earthengine-legacy/maps/c07bc076e40f1efa0f84b75797d8e103-195b7dbb636de6addd8251abe1f25f5e/tiles/{z}/{x}/{y}&quot;,\n",
              "                {&quot;attribution&quot;: &quot;Map Data \\u0026copy; \\u003ca href=\\&quot;https://earthengine.google.com/\\&quot;\\u003eGoogle Earth Engine\\u003c/a\\u003e&quot;, &quot;detectRetina&quot;: false, &quot;maxNativeZoom&quot;: 18, &quot;maxZoom&quot;: 18, &quot;minZoom&quot;: 0, &quot;noWrap&quot;: false, &quot;opacity&quot;: 1, &quot;subdomains&quot;: &quot;abc&quot;, &quot;tms&quot;: false}\n",
              "            ).addTo(map_6c8a7181b1c4fb2b24d2b4c58b94a140);\n",
              "        \n",
              "    \n",
              "            var tile_layer_6db26ba197db2fe40b12ab16de079316 = L.tileLayer(\n",
              "                &quot;https://earthengine.googleapis.com/v1/projects/earthengine-legacy/maps/42613316128eab4b9d17a03dc261b700-2f1353233f77cd07a13195b80bbd9589/tiles/{z}/{x}/{y}&quot;,\n",
              "                {&quot;attribution&quot;: &quot;Map Data \\u0026copy; \\u003ca href=\\&quot;https://earthengine.google.com/\\&quot;\\u003eGoogle Earth Engine\\u003c/a\\u003e&quot;, &quot;detectRetina&quot;: false, &quot;maxNativeZoom&quot;: 18, &quot;maxZoom&quot;: 18, &quot;minZoom&quot;: 0, &quot;noWrap&quot;: false, &quot;opacity&quot;: 1, &quot;subdomains&quot;: &quot;abc&quot;, &quot;tms&quot;: false}\n",
              "            ).addTo(map_6c8a7181b1c4fb2b24d2b4c58b94a140);\n",
              "        \n",
              "    \n",
              "            var layer_control_4ef38527988924a7896a314f5afdf171 = {\n",
              "                base_layers : {\n",
              "                    &quot;stamentoner&quot; : tile_layer_252e5693bb06675576bde44d6a509b07,\n",
              "                    &quot;openstreetmap&quot; : tile_layer_18021903232a5fcbb5adf79c5d5e9d19,\n",
              "                },\n",
              "                overlays :  {\n",
              "                    &quot;Ratio&quot; : tile_layer_9d90019e2dc2430495cafaafda63f246,\n",
              "                    &quot;Change Map&quot; : tile_layer_6db26ba197db2fe40b12ab16de079316,\n",
              "                },\n",
              "            };\n",
              "            L.control.layers(\n",
              "                layer_control_4ef38527988924a7896a314f5afdf171.base_layers,\n",
              "                layer_control_4ef38527988924a7896a314f5afdf171.overlays,\n",
              "                {&quot;autoZIndex&quot;: true, &quot;collapsed&quot;: true, &quot;position&quot;: &quot;topright&quot;}\n",
              "            ).addTo(map_6c8a7181b1c4fb2b24d2b4c58b94a140);\n",
              "            tile_layer_18021903232a5fcbb5adf79c5d5e9d19.remove();\n",
              "        \n",
              "&lt;/script&gt;\n",
              "&lt;/html&gt;\" style=\"position:absolute;width:100%;height:100%;left:0;top:0;border:none !important;\" allowfullscreen webkitallowfullscreen mozallowfullscreen></iframe></div></div>"
            ]
          },
          "metadata": {}
        }
      ]
    },
    {
      "cell_type": "code",
      "source": [
        "def det(im):\n",
        "  return im.expression('b(0) * b(1)')\n",
        "\n",
        "# Number of looks.\n",
        "m = 5\n",
        "\n",
        "im1 = ee.Image(im_list.get(0)).select('VV', 'VH').clip(aoi)\n",
        "im2 = ee.Image(im_list.get(1)).select('VV', 'VH').clip(aoi)\n",
        "\n",
        "m2logQ = det(im1).log().add(det(im2).log()).subtract(\n",
        "    det(im1.add(im2)).log().multiply(2)).add(4*np.log(2)).multiply(-2*m)"
      ],
      "metadata": {
        "id": "gCgQB8VGiQPn"
      },
      "execution_count": 18,
      "outputs": []
    },
    {
      "cell_type": "code",
      "source": [
        "hist = m2logQ.reduceRegion(\n",
        "    ee.Reducer.fixedHistogram(0, 20, 200), aoi).get('VV').getInfo()\n",
        "a = np.array(hist)\n",
        "x = a[:, 0]\n",
        "y = a[:, 1] / np.sum(a[:, 1])\n",
        "plt.plot(x, y, '.', label='data')\n",
        "plt.plot(x, chi2.pdf(x, 2)/10, '-r', label='chi square')\n",
        "plt.legend()\n",
        "plt.grid()\n",
        "plt.show()"
      ],
      "metadata": {
        "colab": {
          "base_uri": "https://localhost:8080/",
          "height": 430
        },
        "id": "KcwUUQ-3mlKn",
        "outputId": "b3f90c7b-e3a6-4cf5-9da2-b819319bb4bc"
      },
      "execution_count": 19,
      "outputs": [
        {
          "output_type": "display_data",
          "data": {
            "text/plain": [
              "<Figure size 640x480 with 1 Axes>"
            ],
            "image/png": "[encoded data removed]"
          },
          "metadata": {}
        }
      ]
    },
    {
      "cell_type": "code",
      "source": [
        "geoJSON ={\n",
        "  \"type\": \"FeatureCollection\",\n",
        "  \"features\": [\n",
        "    {\n",
        "      \"type\": \"Feature\",\n",
        "      \"properties\": {},\n",
        "      \"geometry\": {\n",
        "        \"type\": \"Polygon\",\n",
        "        \"coordinates\": [\n",
        "          [\n",
        "            [\n",
        "              -98.2122802734375,\n",
        "              49.769291532628515\n",
        "            ],\n",
        "            [\n",
        "              -98.00559997558594,\n",
        "              49.769291532628515\n",
        "            ],\n",
        "            [\n",
        "              -98.00559997558594,\n",
        "              49.88578690918283\n",
        "            ],\n",
        "            [\n",
        "              -98.2122802734375,\n",
        "              49.88578690918283\n",
        "            ],\n",
        "            [\n",
        "              -98.2122802734375,\n",
        "              49.769291532628515\n",
        "            ]\n",
        "          ]\n",
        "        ]\n",
        "      }\n",
        "    }\n",
        "  ]\n",
        "}\n",
        "coords = geoJSON['features'][0]['geometry']['coordinates']\n",
        "aoi1 = ee.Geometry.Polygon(coords)"
      ],
      "metadata": {
        "id": "CAxYIPXAnUbR"
      },
      "execution_count": 20,
      "outputs": []
    },
    {
      "cell_type": "code",
      "source": [
        "im1 = ee.Image(ee.ImageCollection('COPERNICUS/S1_GRD_FLOAT')\n",
        "                .filterBounds(aoi1)\n",
        "                .filterDate(ee.Date('2018-08-01'), ee.Date('2018-08-31'))\n",
        "                .filter(ee.Filter.eq('orbitProperties_pass', 'ASCENDING'))\n",
        "                .filter(ee.Filter.eq('relativeOrbitNumber_start', 136))\n",
        "                .first()\n",
        "                .clip(aoi1))\n",
        "im2 = ee.Image(ee.ImageCollection('COPERNICUS/S1_GRD_FLOAT').filterBounds(aoi1)\n",
        "                .filterDate(ee.Date('2018-09-01'), ee.Date('2018-09-30'))\n",
        "                .filter(ee.Filter.eq('orbitProperties_pass', 'ASCENDING'))\n",
        "                .filter(ee.Filter.eq('relativeOrbitNumber_start', 136))\n",
        "                .first()\n",
        "                .clip(aoi1))"
      ],
      "metadata": {
        "id": "hV1bt24EnwSc"
      },
      "execution_count": 21,
      "outputs": []
    },
    {
      "cell_type": "code",
      "source": [
        "im1"
      ],
      "metadata": {
        "colab": {
          "base_uri": "https://localhost:8080/"
        },
        "id": "x97U-MlAnzWi",
        "outputId": "7ddf34de-0086-4671-bbd5-da289702c605"
      },
      "execution_count": 22,
      "outputs": [
        {
          "output_type": "execute_result",
          "data": {
            "text/plain": [
              "<ee.image.Image at 0x7ae5959da3e0>"
            ]
          },
          "metadata": {},
          "execution_count": 22
        }
      ]
    },
    {
      "cell_type": "code",
      "source": [
        "acq_time = im1.get('system:time_start').getInfo()\n",
        "print( time.strftime('%x', time.gmtime(acq_time/1000)) )\n",
        "acq_time = im2.get('system:time_start').getInfo()\n",
        "print( time.strftime('%x', time.gmtime(acq_time/1000)) )"
      ],
      "metadata": {
        "colab": {
          "base_uri": "https://localhost:8080/"
        },
        "id": "V47CG_14n5vD",
        "outputId": "70124297-3b61-4b94-895b-01f8f64a6363"
      },
      "execution_count": 24,
      "outputs": [
        {
          "output_type": "stream",
          "name": "stdout",
          "text": [
            "08/01/18\n",
            "09/06/18\n"
          ]
        }
      ]
    },
    {
      "cell_type": "code",
      "source": [
        "def chi2cdf(chi2, df):\n",
        "  ''' Chi square cumulative distribution function for df degrees of freedom\n",
        "      using the built-in incomplete gamma function gammainc() '''\n",
        "  return ee.Image(chi2.divide(2)).gammainc(ee.Number(df).divide(2))\n",
        "\n",
        "# The observed test statistic image -2logq.\n",
        "m2logq = det(im1).log().add(det(im2).log()).subtract(\n",
        "    det(im1.add(im2)).log().multiply(2)).add(4*np.log(2)).multiply(-2*m)\n",
        "\n",
        "# The P value image prob(m2logQ > m2logq) = 1 - prob(m2logQ < m2logq).\n",
        "p_value = ee.Image.constant(1).subtract(chi2cdf(m2logq, 2))\n",
        "\n",
        "# Project onto map.\n",
        "location = aoi1.centroid().coordinates().getInfo()[::-1]\n",
        "mp = folium.Map(location=location, zoom_start=12)\n",
        "mp.add_ee_layer(p_value,\n",
        "                {'min': 0,'max': 1, 'palette': ['black', 'white']}, 'P-value')\n",
        "mp.add_child(folium.LayerControl())"
      ],
      "metadata": {
        "colab": {
          "base_uri": "https://localhost:8080/",
          "height": 808
        },
        "id": "gMkHl9y7oSRk",
        "outputId": "32394b26-d6a4-4514-b54e-e9f5d51feba5"
      },
      "execution_count": 25,
      "outputs": [
        {
          "output_type": "execute_result",
          "data": {
            "text/plain": [
              "<folium.folium.Map at 0x7ae595a13b80>"
            ],
            "text/html": [
              "<div style=\"width:100%;\"><div style=\"position:relative;width:100%;height:0;padding-bottom:60%;\"><span style=\"color:#565656\">Make this Notebook Trusted to load map: File -> Trust Notebook</span><iframe srcdoc=\"&lt;!DOCTYPE html&gt;\n",
              "&lt;html&gt;\n",
              "&lt;head&gt;\n",
              "    \n",
              "    &lt;meta http-equiv=&quot;content-type&quot; content=&quot;text/html; charset=UTF-8&quot; /&gt;\n",
              "    \n",
              "        &lt;script&gt;\n",
              "            L_NO_TOUCH = false;\n",
              "            L_DISABLE_3D = false;\n",
              "        &lt;/script&gt;\n",
              "    \n",
              "    &lt;style&gt;html, body {width: 100%;height: 100%;margin: 0;padding: 0;}&lt;/style&gt;\n",
              "    &lt;style&gt;#map {position:absolute;top:0;bottom:0;right:0;left:0;}&lt;/style&gt;\n",
              "    &lt;script src=&quot;https://cdn.jsdelivr.net/npm/leaflet@1.9.3/dist/leaflet.js&quot;&gt;&lt;/script&gt;\n",
              "    &lt;script src=&quot;https://code.jquery.com/jquery-1.12.4.min.js&quot;&gt;&lt;/script&gt;\n",
              "    &lt;script src=&quot;https://cdn.jsdelivr.net/npm/bootstrap@5.2.2/dist/js/bootstrap.bundle.min.js&quot;&gt;&lt;/script&gt;\n",
              "    &lt;script src=&quot;https://cdnjs.cloudflare.com/ajax/libs/Leaflet.awesome-markers/2.0.2/leaflet.awesome-markers.js&quot;&gt;&lt;/script&gt;\n",
              "    &lt;link rel=&quot;stylesheet&quot; href=&quot;https://cdn.jsdelivr.net/npm/leaflet@1.9.3/dist/leaflet.css&quot;/&gt;\n",
              "    &lt;link rel=&quot;stylesheet&quot; href=&quot;https://cdn.jsdelivr.net/npm/bootstrap@5.2.2/dist/css/bootstrap.min.css&quot;/&gt;\n",
              "    &lt;link rel=&quot;stylesheet&quot; href=&quot;https://netdna.bootstrapcdn.com/bootstrap/3.0.0/css/bootstrap.min.css&quot;/&gt;\n",
              "    &lt;link rel=&quot;stylesheet&quot; href=&quot;https://cdn.jsdelivr.net/npm/@fortawesome/fontawesome-free@6.2.0/css/all.min.css&quot;/&gt;\n",
              "    &lt;link rel=&quot;stylesheet&quot; href=&quot;https://cdnjs.cloudflare.com/ajax/libs/Leaflet.awesome-markers/2.0.2/leaflet.awesome-markers.css&quot;/&gt;\n",
              "    &lt;link rel=&quot;stylesheet&quot; href=&quot;https://cdn.jsdelivr.net/gh/python-visualization/folium/folium/templates/leaflet.awesome.rotate.min.css&quot;/&gt;\n",
              "    \n",
              "            &lt;meta name=&quot;viewport&quot; content=&quot;width=device-width,\n",
              "                initial-scale=1.0, maximum-scale=1.0, user-scalable=no&quot; /&gt;\n",
              "            &lt;style&gt;\n",
              "                #map_011d88e226b8460eb5c3c68040eefb43 {\n",
              "                    position: relative;\n",
              "                    width: 100.0%;\n",
              "                    height: 100.0%;\n",
              "                    left: 0.0%;\n",
              "                    top: 0.0%;\n",
              "                }\n",
              "                .leaflet-container { font-size: 1rem; }\n",
              "            &lt;/style&gt;\n",
              "        \n",
              "&lt;/head&gt;\n",
              "&lt;body&gt;\n",
              "    \n",
              "    \n",
              "            &lt;div class=&quot;folium-map&quot; id=&quot;map_011d88e226b8460eb5c3c68040eefb43&quot; &gt;&lt;/div&gt;\n",
              "        \n",
              "&lt;/body&gt;\n",
              "&lt;script&gt;\n",
              "    \n",
              "    \n",
              "            var map_011d88e226b8460eb5c3c68040eefb43 = L.map(\n",
              "                &quot;map_011d88e226b8460eb5c3c68040eefb43&quot;,\n",
              "                {\n",
              "                    center: [49.82756177743855, -98.10894012451173],\n",
              "                    crs: L.CRS.EPSG3857,\n",
              "                    zoom: 12,\n",
              "                    zoomControl: true,\n",
              "                    preferCanvas: false,\n",
              "                }\n",
              "            );\n",
              "\n",
              "            \n",
              "\n",
              "        \n",
              "    \n",
              "            var tile_layer_0b570ca41e76286d5293db9eda574b8e = L.tileLayer(\n",
              "                &quot;https://{s}.tile.openstreetmap.org/{z}/{x}/{y}.png&quot;,\n",
              "                {&quot;attribution&quot;: &quot;Data by \\u0026copy; \\u003ca target=\\&quot;_blank\\&quot; href=\\&quot;http://openstreetmap.org\\&quot;\\u003eOpenStreetMap\\u003c/a\\u003e, under \\u003ca target=\\&quot;_blank\\&quot; href=\\&quot;http://www.openstreetmap.org/copyright\\&quot;\\u003eODbL\\u003c/a\\u003e.&quot;, &quot;detectRetina&quot;: false, &quot;maxNativeZoom&quot;: 18, &quot;maxZoom&quot;: 18, &quot;minZoom&quot;: 0, &quot;noWrap&quot;: false, &quot;opacity&quot;: 1, &quot;subdomains&quot;: &quot;abc&quot;, &quot;tms&quot;: false}\n",
              "            ).addTo(map_011d88e226b8460eb5c3c68040eefb43);\n",
              "        \n",
              "    \n",
              "            var tile_layer_9c7cfb10c35407c1f10b507045d1e4e2 = L.tileLayer(\n",
              "                &quot;https://earthengine.googleapis.com/v1/projects/earthengine-legacy/maps/adf9c2e81d829335b54a5ee2be7c9942-cb25d3c2fb6596899d5ea6ed81887cbc/tiles/{z}/{x}/{y}&quot;,\n",
              "                {&quot;attribution&quot;: &quot;Map Data \\u0026copy; \\u003ca href=\\&quot;https://earthengine.google.com/\\&quot;\\u003eGoogle Earth Engine\\u003c/a\\u003e&quot;, &quot;detectRetina&quot;: false, &quot;maxNativeZoom&quot;: 18, &quot;maxZoom&quot;: 18, &quot;minZoom&quot;: 0, &quot;noWrap&quot;: false, &quot;opacity&quot;: 1, &quot;subdomains&quot;: &quot;abc&quot;, &quot;tms&quot;: false}\n",
              "            ).addTo(map_011d88e226b8460eb5c3c68040eefb43);\n",
              "        \n",
              "    \n",
              "            var layer_control_efe3041c57518d22f2662cb0dd8bfc04 = {\n",
              "                base_layers : {\n",
              "                    &quot;openstreetmap&quot; : tile_layer_0b570ca41e76286d5293db9eda574b8e,\n",
              "                },\n",
              "                overlays :  {\n",
              "                    &quot;P-value&quot; : tile_layer_9c7cfb10c35407c1f10b507045d1e4e2,\n",
              "                },\n",
              "            };\n",
              "            L.control.layers(\n",
              "                layer_control_efe3041c57518d22f2662cb0dd8bfc04.base_layers,\n",
              "                layer_control_efe3041c57518d22f2662cb0dd8bfc04.overlays,\n",
              "                {&quot;autoZIndex&quot;: true, &quot;collapsed&quot;: true, &quot;position&quot;: &quot;topright&quot;}\n",
              "            ).addTo(map_011d88e226b8460eb5c3c68040eefb43);\n",
              "        \n",
              "&lt;/script&gt;\n",
              "&lt;/html&gt;\" style=\"position:absolute;width:100%;height:100%;left:0;top:0;border:none !important;\" allowfullscreen webkitallowfullscreen mozallowfullscreen></iframe></div></div>"
            ]
          },
          "metadata": {},
          "execution_count": 25
        }
      ]
    },
    {
      "cell_type": "code",
      "source": [
        "c_map = p_value.multiply(0).where(p_value.lt(0.01), 1)\n",
        "\n",
        "crop2018 = (ee.ImageCollection('AAFC/ACI')\n",
        "             .filter(ee.Filter.date('2018-01-01', '2018-12-01'))\n",
        "             .first()\n",
        "             .clip(aoi1))\n",
        "\n",
        "mp = folium.Map(location=location, zoom_start=12)\n",
        "mp.add_ee_layer(crop2018, {min: 0, max: 255}, 'crop2018')\n",
        "mp.add_ee_layer(c_map.updateMask(\n",
        "    c_map.gt(0)), {'min': 0, 'max': 1, 'palette': ['black', 'red']}, 'c_map')\n",
        "mp.add_child(folium.LayerControl())"
      ],
      "metadata": {
        "colab": {
          "base_uri": "https://localhost:8080/",
          "height": 808
        },
        "id": "inTAqIBgobyd",
        "outputId": "f5dd6e5c-f82d-42ce-9019-1658926a82e6"
      },
      "execution_count": 26,
      "outputs": [
        {
          "output_type": "execute_result",
          "data": {
            "text/plain": [
              "<folium.folium.Map at 0x7ae596829720>"
            ],
            "text/html": [
              "<div style=\"width:100%;\"><div style=\"position:relative;width:100%;height:0;padding-bottom:60%;\"><span style=\"color:#565656\">Make this Notebook Trusted to load map: File -> Trust Notebook</span><iframe srcdoc=\"&lt;!DOCTYPE html&gt;\n",
              "&lt;html&gt;\n",
              "&lt;head&gt;\n",
              "    \n",
              "    &lt;meta http-equiv=&quot;content-type&quot; content=&quot;text/html; charset=UTF-8&quot; /&gt;\n",
              "    \n",
              "        &lt;script&gt;\n",
              "            L_NO_TOUCH = false;\n",
              "            L_DISABLE_3D = false;\n",
              "        &lt;/script&gt;\n",
              "    \n",
              "    &lt;style&gt;html, body {width: 100%;height: 100%;margin: 0;padding: 0;}&lt;/style&gt;\n",
              "    &lt;style&gt;#map {position:absolute;top:0;bottom:0;right:0;left:0;}&lt;/style&gt;\n",
              "    &lt;script src=&quot;https://cdn.jsdelivr.net/npm/leaflet@1.9.3/dist/leaflet.js&quot;&gt;&lt;/script&gt;\n",
              "    &lt;script src=&quot;https://code.jquery.com/jquery-1.12.4.min.js&quot;&gt;&lt;/script&gt;\n",
              "    &lt;script src=&quot;https://cdn.jsdelivr.net/npm/bootstrap@5.2.2/dist/js/bootstrap.bundle.min.js&quot;&gt;&lt;/script&gt;\n",
              "    &lt;script src=&quot;https://cdnjs.cloudflare.com/ajax/libs/Leaflet.awesome-markers/2.0.2/leaflet.awesome-markers.js&quot;&gt;&lt;/script&gt;\n",
              "    &lt;link rel=&quot;stylesheet&quot; href=&quot;https://cdn.jsdelivr.net/npm/leaflet@1.9.3/dist/leaflet.css&quot;/&gt;\n",
              "    &lt;link rel=&quot;stylesheet&quot; href=&quot;https://cdn.jsdelivr.net/npm/bootstrap@5.2.2/dist/css/bootstrap.min.css&quot;/&gt;\n",
              "    &lt;link rel=&quot;stylesheet&quot; href=&quot;https://netdna.bootstrapcdn.com/bootstrap/3.0.0/css/bootstrap.min.css&quot;/&gt;\n",
              "    &lt;link rel=&quot;stylesheet&quot; href=&quot;https://cdn.jsdelivr.net/npm/@fortawesome/fontawesome-free@6.2.0/css/all.min.css&quot;/&gt;\n",
              "    &lt;link rel=&quot;stylesheet&quot; href=&quot;https://cdnjs.cloudflare.com/ajax/libs/Leaflet.awesome-markers/2.0.2/leaflet.awesome-markers.css&quot;/&gt;\n",
              "    &lt;link rel=&quot;stylesheet&quot; href=&quot;https://cdn.jsdelivr.net/gh/python-visualization/folium/folium/templates/leaflet.awesome.rotate.min.css&quot;/&gt;\n",
              "    \n",
              "            &lt;meta name=&quot;viewport&quot; content=&quot;width=device-width,\n",
              "                initial-scale=1.0, maximum-scale=1.0, user-scalable=no&quot; /&gt;\n",
              "            &lt;style&gt;\n",
              "                #map_3b1da621f70e84096c8bec7bf7fa19a5 {\n",
              "                    position: relative;\n",
              "                    width: 100.0%;\n",
              "                    height: 100.0%;\n",
              "                    left: 0.0%;\n",
              "                    top: 0.0%;\n",
              "                }\n",
              "                .leaflet-container { font-size: 1rem; }\n",
              "            &lt;/style&gt;\n",
              "        \n",
              "&lt;/head&gt;\n",
              "&lt;body&gt;\n",
              "    \n",
              "    \n",
              "            &lt;div class=&quot;folium-map&quot; id=&quot;map_3b1da621f70e84096c8bec7bf7fa19a5&quot; &gt;&lt;/div&gt;\n",
              "        \n",
              "&lt;/body&gt;\n",
              "&lt;script&gt;\n",
              "    \n",
              "    \n",
              "            var map_3b1da621f70e84096c8bec7bf7fa19a5 = L.map(\n",
              "                &quot;map_3b1da621f70e84096c8bec7bf7fa19a5&quot;,\n",
              "                {\n",
              "                    center: [49.82756177743855, -98.10894012451173],\n",
              "                    crs: L.CRS.EPSG3857,\n",
              "                    zoom: 12,\n",
              "                    zoomControl: true,\n",
              "                    preferCanvas: false,\n",
              "                }\n",
              "            );\n",
              "\n",
              "            \n",
              "\n",
              "        \n",
              "    \n",
              "            var tile_layer_7e31e01ae8cc2fd5557a3335695cad70 = L.tileLayer(\n",
              "                &quot;https://{s}.tile.openstreetmap.org/{z}/{x}/{y}.png&quot;,\n",
              "                {&quot;attribution&quot;: &quot;Data by \\u0026copy; \\u003ca target=\\&quot;_blank\\&quot; href=\\&quot;http://openstreetmap.org\\&quot;\\u003eOpenStreetMap\\u003c/a\\u003e, under \\u003ca target=\\&quot;_blank\\&quot; href=\\&quot;http://www.openstreetmap.org/copyright\\&quot;\\u003eODbL\\u003c/a\\u003e.&quot;, &quot;detectRetina&quot;: false, &quot;maxNativeZoom&quot;: 18, &quot;maxZoom&quot;: 18, &quot;minZoom&quot;: 0, &quot;noWrap&quot;: false, &quot;opacity&quot;: 1, &quot;subdomains&quot;: &quot;abc&quot;, &quot;tms&quot;: false}\n",
              "            ).addTo(map_3b1da621f70e84096c8bec7bf7fa19a5);\n",
              "        \n",
              "    \n",
              "            var tile_layer_8a2ff64280387efb0820d8abcb7dd1d7 = L.tileLayer(\n",
              "                &quot;https://earthengine.googleapis.com/v1/projects/earthengine-legacy/maps/dabd92e29302da1c79b55dadf4d2527d-ae62179dc70454ba1ef4cec59c2a7955/tiles/{z}/{x}/{y}&quot;,\n",
              "                {&quot;attribution&quot;: &quot;Map Data \\u0026copy; \\u003ca href=\\&quot;https://earthengine.google.com/\\&quot;\\u003eGoogle Earth Engine\\u003c/a\\u003e&quot;, &quot;detectRetina&quot;: false, &quot;maxNativeZoom&quot;: 18, &quot;maxZoom&quot;: 18, &quot;minZoom&quot;: 0, &quot;noWrap&quot;: false, &quot;opacity&quot;: 1, &quot;subdomains&quot;: &quot;abc&quot;, &quot;tms&quot;: false}\n",
              "            ).addTo(map_3b1da621f70e84096c8bec7bf7fa19a5);\n",
              "        \n",
              "    \n",
              "            var tile_layer_2d901a02ff20908b31d950fe490a1e4b = L.tileLayer(\n",
              "                &quot;https://earthengine.googleapis.com/v1/projects/earthengine-legacy/maps/864747a9164bca853413eff45ce0ba87-a062b8beb229c1c758f2bf4a84ab05a8/tiles/{z}/{x}/{y}&quot;,\n",
              "                {&quot;attribution&quot;: &quot;Map Data \\u0026copy; \\u003ca href=\\&quot;https://earthengine.google.com/\\&quot;\\u003eGoogle Earth Engine\\u003c/a\\u003e&quot;, &quot;detectRetina&quot;: false, &quot;maxNativeZoom&quot;: 18, &quot;maxZoom&quot;: 18, &quot;minZoom&quot;: 0, &quot;noWrap&quot;: false, &quot;opacity&quot;: 1, &quot;subdomains&quot;: &quot;abc&quot;, &quot;tms&quot;: false}\n",
              "            ).addTo(map_3b1da621f70e84096c8bec7bf7fa19a5);\n",
              "        \n",
              "    \n",
              "            var layer_control_2115ba010cdbc28832ec99b721e93d6b = {\n",
              "                base_layers : {\n",
              "                    &quot;openstreetmap&quot; : tile_layer_7e31e01ae8cc2fd5557a3335695cad70,\n",
              "                },\n",
              "                overlays :  {\n",
              "                    &quot;crop2018&quot; : tile_layer_8a2ff64280387efb0820d8abcb7dd1d7,\n",
              "                    &quot;c_map&quot; : tile_layer_2d901a02ff20908b31d950fe490a1e4b,\n",
              "                },\n",
              "            };\n",
              "            L.control.layers(\n",
              "                layer_control_2115ba010cdbc28832ec99b721e93d6b.base_layers,\n",
              "                layer_control_2115ba010cdbc28832ec99b721e93d6b.overlays,\n",
              "                {&quot;autoZIndex&quot;: true, &quot;collapsed&quot;: true, &quot;position&quot;: &quot;topright&quot;}\n",
              "            ).addTo(map_3b1da621f70e84096c8bec7bf7fa19a5);\n",
              "        \n",
              "&lt;/script&gt;\n",
              "&lt;/html&gt;\" style=\"position:absolute;width:100%;height:100%;left:0;top:0;border:none !important;\" allowfullscreen webkitallowfullscreen mozallowfullscreen></iframe></div></div>"
            ]
          },
          "metadata": {},
          "execution_count": 26
        }
      ]
    },
    {
      "cell_type": "code",
      "source": [
        "geoJSON ={\n",
        "  \"type\": \"FeatureCollection\",\n",
        "  \"features\": [\n",
        "    {\n",
        "      \"type\": \"Feature\",\n",
        "      \"properties\": {},\n",
        "      \"geometry\": {\n",
        "        \"type\": \"Polygon\",\n",
        "        \"coordinates\": [\n",
        "          [\n",
        "            [\n",
        "              -98.18550109863281,\n",
        "              49.769735012247885\n",
        "            ],\n",
        "            [\n",
        "              -98.13949584960938,\n",
        "              49.769735012247885\n",
        "            ],\n",
        "            [\n",
        "              -98.13949584960938,\n",
        "              49.798109268622\n",
        "            ],\n",
        "            [\n",
        "              -98.18550109863281,\n",
        "              49.798109268622\n",
        "            ],\n",
        "            [\n",
        "              -98.18550109863281,\n",
        "              49.769735012247885\n",
        "            ]\n",
        "          ]\n",
        "        ]\n",
        "      }\n",
        "    }\n",
        "  ]\n",
        "}\n",
        "coords = geoJSON['features'][0]['geometry']['coordinates']\n",
        "aoi1_sub = ee.Geometry.Polygon(coords)\n",
        "hist = p_value.reduceRegion(ee.Reducer.fixedHistogram(0, 1, 100), aoi1_sub).get('constant').getInfo()\n",
        "a = np.array(hist)\n",
        "x = a[:,0]\n",
        "y = a[:,1]/np.sum(a[:,1])\n",
        "plt.plot(x, y, '.b', label='p-value')\n",
        "plt.ylim(0, 0.05)\n",
        "plt.grid()\n",
        "plt.legend()\n",
        "plt.show()"
      ],
      "metadata": {
        "colab": {
          "base_uri": "https://localhost:8080/",
          "height": 435
        },
        "id": "l6Gvg1bqpsOv",
        "outputId": "8b183d99-e9d7-4c6f-e8b0-607a2848a000"
      },
      "execution_count": 27,
      "outputs": [
        {
          "output_type": "display_data",
          "data": {
            "text/plain": [
              "<Figure size 640x480 with 1 Axes>"
            ],
            "image/png": "[encoded data removed]"
          },
          "metadata": {}
        }
      ]
    },
    {
      "cell_type": "code",
      "source": [
        "c_map = p_value.multiply(0).where(p_value.lt(0.01), 1)\n",
        "diff = im2.subtract(im1)\n",
        "d_map = c_map.multiply(0)                    # Initialize the direction map to zero.\n",
        "d_map = d_map.where(det(diff).gt(0), 2)      # All pos or neg def diffs are now labeled 2.\n",
        "d_map = d_map.where(diff.select(0).gt(0), 3) # Re-label pos def (and label some indef) to 3.\n",
        "d_map = d_map.where(det(diff).lt(0), 1)      # Label all indef to 1.\n",
        "c_map = c_map.multiply(d_map)                # Re-label the c_map, 0*X = 0, 1*1 = 1, 1*2= 2, 1*3 = 3."
      ],
      "metadata": {
        "id": "6uUeMf3mqGu3"
      },
      "execution_count": 28,
      "outputs": []
    },
    {
      "cell_type": "code",
      "source": [
        "mp = folium.Map(location=location, zoom_start=12)\n",
        "mp.add_ee_layer(crop2018, {min: 0, max: 255}, 'crop2018')\n",
        "mp.add_ee_layer(\n",
        "    c_map.updateMask(c_map.gt(0)), {\n",
        "        'min': 0,\n",
        "        'max': 3,\n",
        "        'palette': ['black', 'yellow', 'blue', 'red']\n",
        "    }, 'c_map')\n",
        "mp.add_child(folium.LayerControl())"
      ],
      "metadata": {
        "colab": {
          "base_uri": "https://localhost:8080/",
          "height": 808
        },
        "id": "a_GeWwGprMmC",
        "outputId": "9f3d94c4-2154-484b-d2f1-603421137abe"
      },
      "execution_count": 29,
      "outputs": [
        {
          "output_type": "execute_result",
          "data": {
            "text/plain": [
              "<folium.folium.Map at 0x7ae5959d8b80>"
            ],
            "text/html": [
              "<div style=\"width:100%;\"><div style=\"position:relative;width:100%;height:0;padding-bottom:60%;\"><span style=\"color:#565656\">Make this Notebook Trusted to load map: File -> Trust Notebook</span><iframe srcdoc=\"&lt;!DOCTYPE html&gt;\n",
              "&lt;html&gt;\n",
              "&lt;head&gt;\n",
              "    \n",
              "    &lt;meta http-equiv=&quot;content-type&quot; content=&quot;text/html; charset=UTF-8&quot; /&gt;\n",
              "    \n",
              "        &lt;script&gt;\n",
              "            L_NO_TOUCH = false;\n",
              "            L_DISABLE_3D = false;\n",
              "        &lt;/script&gt;\n",
              "    \n",
              "    &lt;style&gt;html, body {width: 100%;height: 100%;margin: 0;padding: 0;}&lt;/style&gt;\n",
              "    &lt;style&gt;#map {position:absolute;top:0;bottom:0;right:0;left:0;}&lt;/style&gt;\n",
              "    &lt;script src=&quot;https://cdn.jsdelivr.net/npm/leaflet@1.9.3/dist/leaflet.js&quot;&gt;&lt;/script&gt;\n",
              "    &lt;script src=&quot;https://code.jquery.com/jquery-1.12.4.min.js&quot;&gt;&lt;/script&gt;\n",
              "    &lt;script src=&quot;https://cdn.jsdelivr.net/npm/bootstrap@5.2.2/dist/js/bootstrap.bundle.min.js&quot;&gt;&lt;/script&gt;\n",
              "    &lt;script src=&quot;https://cdnjs.cloudflare.com/ajax/libs/Leaflet.awesome-markers/2.0.2/leaflet.awesome-markers.js&quot;&gt;&lt;/script&gt;\n",
              "    &lt;link rel=&quot;stylesheet&quot; href=&quot;https://cdn.jsdelivr.net/npm/leaflet@1.9.3/dist/leaflet.css&quot;/&gt;\n",
              "    &lt;link rel=&quot;stylesheet&quot; href=&quot;https://cdn.jsdelivr.net/npm/bootstrap@5.2.2/dist/css/bootstrap.min.css&quot;/&gt;\n",
              "    &lt;link rel=&quot;stylesheet&quot; href=&quot;https://netdna.bootstrapcdn.com/bootstrap/3.0.0/css/bootstrap.min.css&quot;/&gt;\n",
              "    &lt;link rel=&quot;stylesheet&quot; href=&quot;https://cdn.jsdelivr.net/npm/@fortawesome/fontawesome-free@6.2.0/css/all.min.css&quot;/&gt;\n",
              "    &lt;link rel=&quot;stylesheet&quot; href=&quot;https://cdnjs.cloudflare.com/ajax/libs/Leaflet.awesome-markers/2.0.2/leaflet.awesome-markers.css&quot;/&gt;\n",
              "    &lt;link rel=&quot;stylesheet&quot; href=&quot;https://cdn.jsdelivr.net/gh/python-visualization/folium/folium/templates/leaflet.awesome.rotate.min.css&quot;/&gt;\n",
              "    \n",
              "            &lt;meta name=&quot;viewport&quot; content=&quot;width=device-width,\n",
              "                initial-scale=1.0, maximum-scale=1.0, user-scalable=no&quot; /&gt;\n",
              "            &lt;style&gt;\n",
              "                #map_5451c38020c8aa4add0460ac2ac302dc {\n",
              "                    position: relative;\n",
              "                    width: 100.0%;\n",
              "                    height: 100.0%;\n",
              "                    left: 0.0%;\n",
              "                    top: 0.0%;\n",
              "                }\n",
              "                .leaflet-container { font-size: 1rem; }\n",
              "            &lt;/style&gt;\n",
              "        \n",
              "&lt;/head&gt;\n",
              "&lt;body&gt;\n",
              "    \n",
              "    \n",
              "            &lt;div class=&quot;folium-map&quot; id=&quot;map_5451c38020c8aa4add0460ac2ac302dc&quot; &gt;&lt;/div&gt;\n",
              "        \n",
              "&lt;/body&gt;\n",
              "&lt;script&gt;\n",
              "    \n",
              "    \n",
              "            var map_5451c38020c8aa4add0460ac2ac302dc = L.map(\n",
              "                &quot;map_5451c38020c8aa4add0460ac2ac302dc&quot;,\n",
              "                {\n",
              "                    center: [49.82756177743855, -98.10894012451173],\n",
              "                    crs: L.CRS.EPSG3857,\n",
              "                    zoom: 12,\n",
              "                    zoomControl: true,\n",
              "                    preferCanvas: false,\n",
              "                }\n",
              "            );\n",
              "\n",
              "            \n",
              "\n",
              "        \n",
              "    \n",
              "            var tile_layer_e9d5fa0f059fdee9eb223a344f1913f0 = L.tileLayer(\n",
              "                &quot;https://{s}.tile.openstreetmap.org/{z}/{x}/{y}.png&quot;,\n",
              "                {&quot;attribution&quot;: &quot;Data by \\u0026copy; \\u003ca target=\\&quot;_blank\\&quot; href=\\&quot;http://openstreetmap.org\\&quot;\\u003eOpenStreetMap\\u003c/a\\u003e, under \\u003ca target=\\&quot;_blank\\&quot; href=\\&quot;http://www.openstreetmap.org/copyright\\&quot;\\u003eODbL\\u003c/a\\u003e.&quot;, &quot;detectRetina&quot;: false, &quot;maxNativeZoom&quot;: 18, &quot;maxZoom&quot;: 18, &quot;minZoom&quot;: 0, &quot;noWrap&quot;: false, &quot;opacity&quot;: 1, &quot;subdomains&quot;: &quot;abc&quot;, &quot;tms&quot;: false}\n",
              "            ).addTo(map_5451c38020c8aa4add0460ac2ac302dc);\n",
              "        \n",
              "    \n",
              "            var tile_layer_8d7077f5170a85f044d2fae940b5dbf0 = L.tileLayer(\n",
              "                &quot;https://earthengine.googleapis.com/v1/projects/earthengine-legacy/maps/dabd92e29302da1c79b55dadf4d2527d-d86278a1f3973402f101ed5d5d1e0cc7/tiles/{z}/{x}/{y}&quot;,\n",
              "                {&quot;attribution&quot;: &quot;Map Data \\u0026copy; \\u003ca href=\\&quot;https://earthengine.google.com/\\&quot;\\u003eGoogle Earth Engine\\u003c/a\\u003e&quot;, &quot;detectRetina&quot;: false, &quot;maxNativeZoom&quot;: 18, &quot;maxZoom&quot;: 18, &quot;minZoom&quot;: 0, &quot;noWrap&quot;: false, &quot;opacity&quot;: 1, &quot;subdomains&quot;: &quot;abc&quot;, &quot;tms&quot;: false}\n",
              "            ).addTo(map_5451c38020c8aa4add0460ac2ac302dc);\n",
              "        \n",
              "    \n",
              "            var tile_layer_7669cd00f8c9b1771200875de73b9f4a = L.tileLayer(\n",
              "                &quot;https://earthengine.googleapis.com/v1/projects/earthengine-legacy/maps/6e5bb6d0a9e48cae9899c38018479ca0-cceb301e94f30628052bd154d34b436d/tiles/{z}/{x}/{y}&quot;,\n",
              "                {&quot;attribution&quot;: &quot;Map Data \\u0026copy; \\u003ca href=\\&quot;https://earthengine.google.com/\\&quot;\\u003eGoogle Earth Engine\\u003c/a\\u003e&quot;, &quot;detectRetina&quot;: false, &quot;maxNativeZoom&quot;: 18, &quot;maxZoom&quot;: 18, &quot;minZoom&quot;: 0, &quot;noWrap&quot;: false, &quot;opacity&quot;: 1, &quot;subdomains&quot;: &quot;abc&quot;, &quot;tms&quot;: false}\n",
              "            ).addTo(map_5451c38020c8aa4add0460ac2ac302dc);\n",
              "        \n",
              "    \n",
              "            var layer_control_01401046da6627701508e0d7eb746af6 = {\n",
              "                base_layers : {\n",
              "                    &quot;openstreetmap&quot; : tile_layer_e9d5fa0f059fdee9eb223a344f1913f0,\n",
              "                },\n",
              "                overlays :  {\n",
              "                    &quot;crop2018&quot; : tile_layer_8d7077f5170a85f044d2fae940b5dbf0,\n",
              "                    &quot;c_map&quot; : tile_layer_7669cd00f8c9b1771200875de73b9f4a,\n",
              "                },\n",
              "            };\n",
              "            L.control.layers(\n",
              "                layer_control_01401046da6627701508e0d7eb746af6.base_layers,\n",
              "                layer_control_01401046da6627701508e0d7eb746af6.overlays,\n",
              "                {&quot;autoZIndex&quot;: true, &quot;collapsed&quot;: true, &quot;position&quot;: &quot;topright&quot;}\n",
              "            ).addTo(map_5451c38020c8aa4add0460ac2ac302dc);\n",
              "        \n",
              "&lt;/script&gt;\n",
              "&lt;/html&gt;\" style=\"position:absolute;width:100%;height:100%;left:0;top:0;border:none !important;\" allowfullscreen webkitallowfullscreen mozallowfullscreen></iframe></div></div>"
            ]
          },
          "metadata": {},
          "execution_count": 29
        }
      ]
    },
    {
      "cell_type": "code",
      "source": [],
      "metadata": {
        "id": "j4_wLNijrTq8"
      },
      "execution_count": null,
      "outputs": []
    }
  ]
}