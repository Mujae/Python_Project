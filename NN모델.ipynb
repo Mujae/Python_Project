{
  "cells": [
    {
      "cell_type": "markdown",
      "source": [
        "# NN 모델"
      ],
      "metadata": {
        "id": "ddGK2QMu2ld9"
      }
    },
    {
      "cell_type": "code",
      "execution_count": 1,
      "metadata": {
        "colab": {
          "base_uri": "https://localhost:8080/",
          "height": 334
        },
        "id": "FmaBA2KxiK4P",
        "outputId": "182f43ec-f9d1-40c5-be8c-8df79a06f65f"
      },
      "outputs": [
        {
          "output_type": "execute_result",
          "data": {
            "text/plain": [
              "   Blue Mastery 1  Blue Mastery 2  Blue Mastery 3  Blue Mastery 4  \\\n",
              "0          302361           32548          137831           42344   \n",
              "1          244724           55894          166393          151398   \n",
              "2         1370461          165699          328554           11922   \n",
              "3          859153            8207          152833           30736   \n",
              "4          295938          326564         1812645           64742   \n",
              "\n",
              "   Blue Mastery 5  Blue Masteries Avg  Blue Masteries Median  \\\n",
              "0         2594552            621927.2               137831.0   \n",
              "1           17928            127267.4               151398.0   \n",
              "2           64623            388251.8               165699.0   \n",
              "3           94462            229078.2                94462.0   \n",
              "4           83541            516686.0               295938.0   \n",
              "\n",
              "   Blue Masteries Kurtorsis  Blue Masteries Skewness  Blue Masteries Std  ...  \\\n",
              "0                  4.804286                 2.183943       991060.524461  ...   \n",
              "1                 -1.336965                 0.013165        81189.183929  ...   \n",
              "2                  4.066366                 1.991324       502829.634615  ...   \n",
              "3                  4.494974                 2.098720       319077.677286  ...   \n",
              "4                  4.480466                 2.090117       656696.848512  ...   \n",
              "\n",
              "   Red Winrate 3  Red Winrate 4  Red Winrate 5  Red Winrates Avg  \\\n",
              "0       0.485714       0.333333       0.588384          0.511934   \n",
              "1       0.551136       0.641509       0.500000          0.589079   \n",
              "2       0.631579       0.535714       0.529412          0.580125   \n",
              "3       0.142857       0.515789       0.523632          0.336456   \n",
              "4       0.565284       0.600000       0.416667          0.547907   \n",
              "\n",
              "   Red Winrates Median  Red Winrates Kurtorsis  Red Winrates Skewness  \\\n",
              "0             0.552239                1.755027              -1.441162   \n",
              "1             0.551136               -0.950929               0.766032   \n",
              "2             0.535714               -0.171439               0.832254   \n",
              "3             0.500000               -2.252575              -0.789161   \n",
              "4             0.565284               -1.091492               0.001576   \n",
              "\n",
              "   Red Winrates Std  Red Winrates Variance  Blue Won  \n",
              "0          0.097786               0.009562         0  \n",
              "1          0.077926               0.006073         0  \n",
              "2          0.092372               0.008533         0  \n",
              "3          0.221190               0.048925         1  \n",
              "4          0.094206               0.008875         1  \n",
              "\n",
              "[5 rows x 45 columns]"
            ],
            "text/html": [
              "\n",
              "  <div id=\"df-62d7e425-6482-4942-a948-8f77d5a36e8e\">\n",
              "    <div class=\"colab-df-container\">\n",
              "      <div>\n",
              "<style scoped>\n",
              "    .dataframe tbody tr th:only-of-type {\n",
              "        vertical-align: middle;\n",
              "    }\n",
              "\n",
              "    .dataframe tbody tr th {\n",
              "        vertical-align: top;\n",
              "    }\n",
              "\n",
              "    .dataframe thead th {\n",
              "        text-align: right;\n",
              "    }\n",
              "</style>\n",
              "<table border=\"1\" class=\"dataframe\">\n",
              "  <thead>\n",
              "    <tr style=\"text-align: right;\">\n",
              "      <th></th>\n",
              "      <th>Blue Mastery 1</th>\n",
              "      <th>Blue Mastery 2</th>\n",
              "      <th>Blue Mastery 3</th>\n",
              "      <th>Blue Mastery 4</th>\n",
              "      <th>Blue Mastery 5</th>\n",
              "      <th>Blue Masteries Avg</th>\n",
              "      <th>Blue Masteries Median</th>\n",
              "      <th>Blue Masteries Kurtorsis</th>\n",
              "      <th>Blue Masteries Skewness</th>\n",
              "      <th>Blue Masteries Std</th>\n",
              "      <th>...</th>\n",
              "      <th>Red Winrate 3</th>\n",
              "      <th>Red Winrate 4</th>\n",
              "      <th>Red Winrate 5</th>\n",
              "      <th>Red Winrates Avg</th>\n",
              "      <th>Red Winrates Median</th>\n",
              "      <th>Red Winrates Kurtorsis</th>\n",
              "      <th>Red Winrates Skewness</th>\n",
              "      <th>Red Winrates Std</th>\n",
              "      <th>Red Winrates Variance</th>\n",
              "      <th>Blue Won</th>\n",
              "    </tr>\n",
              "  </thead>\n",
              "  <tbody>\n",
              "    <tr>\n",
              "      <th>0</th>\n",
              "      <td>302361</td>\n",
              "      <td>32548</td>\n",
              "      <td>137831</td>\n",
              "      <td>42344</td>\n",
              "      <td>2594552</td>\n",
              "      <td>621927.2</td>\n",
              "      <td>137831.0</td>\n",
              "      <td>4.804286</td>\n",
              "      <td>2.183943</td>\n",
              "      <td>991060.524461</td>\n",
              "      <td>...</td>\n",
              "      <td>0.485714</td>\n",
              "      <td>0.333333</td>\n",
              "      <td>0.588384</td>\n",
              "      <td>0.511934</td>\n",
              "      <td>0.552239</td>\n",
              "      <td>1.755027</td>\n",
              "      <td>-1.441162</td>\n",
              "      <td>0.097786</td>\n",
              "      <td>0.009562</td>\n",
              "      <td>0</td>\n",
              "    </tr>\n",
              "    <tr>\n",
              "      <th>1</th>\n",
              "      <td>244724</td>\n",
              "      <td>55894</td>\n",
              "      <td>166393</td>\n",
              "      <td>151398</td>\n",
              "      <td>17928</td>\n",
              "      <td>127267.4</td>\n",
              "      <td>151398.0</td>\n",
              "      <td>-1.336965</td>\n",
              "      <td>0.013165</td>\n",
              "      <td>81189.183929</td>\n",
              "      <td>...</td>\n",
              "      <td>0.551136</td>\n",
              "      <td>0.641509</td>\n",
              "      <td>0.500000</td>\n",
              "      <td>0.589079</td>\n",
              "      <td>0.551136</td>\n",
              "      <td>-0.950929</td>\n",
              "      <td>0.766032</td>\n",
              "      <td>0.077926</td>\n",
              "      <td>0.006073</td>\n",
              "      <td>0</td>\n",
              "    </tr>\n",
              "    <tr>\n",
              "      <th>2</th>\n",
              "      <td>1370461</td>\n",
              "      <td>165699</td>\n",
              "      <td>328554</td>\n",
              "      <td>11922</td>\n",
              "      <td>64623</td>\n",
              "      <td>388251.8</td>\n",
              "      <td>165699.0</td>\n",
              "      <td>4.066366</td>\n",
              "      <td>1.991324</td>\n",
              "      <td>502829.634615</td>\n",
              "      <td>...</td>\n",
              "      <td>0.631579</td>\n",
              "      <td>0.535714</td>\n",
              "      <td>0.529412</td>\n",
              "      <td>0.580125</td>\n",
              "      <td>0.535714</td>\n",
              "      <td>-0.171439</td>\n",
              "      <td>0.832254</td>\n",
              "      <td>0.092372</td>\n",
              "      <td>0.008533</td>\n",
              "      <td>0</td>\n",
              "    </tr>\n",
              "    <tr>\n",
              "      <th>3</th>\n",
              "      <td>859153</td>\n",
              "      <td>8207</td>\n",
              "      <td>152833</td>\n",
              "      <td>30736</td>\n",
              "      <td>94462</td>\n",
              "      <td>229078.2</td>\n",
              "      <td>94462.0</td>\n",
              "      <td>4.494974</td>\n",
              "      <td>2.098720</td>\n",
              "      <td>319077.677286</td>\n",
              "      <td>...</td>\n",
              "      <td>0.142857</td>\n",
              "      <td>0.515789</td>\n",
              "      <td>0.523632</td>\n",
              "      <td>0.336456</td>\n",
              "      <td>0.500000</td>\n",
              "      <td>-2.252575</td>\n",
              "      <td>-0.789161</td>\n",
              "      <td>0.221190</td>\n",
              "      <td>0.048925</td>\n",
              "      <td>1</td>\n",
              "    </tr>\n",
              "    <tr>\n",
              "      <th>4</th>\n",
              "      <td>295938</td>\n",
              "      <td>326564</td>\n",
              "      <td>1812645</td>\n",
              "      <td>64742</td>\n",
              "      <td>83541</td>\n",
              "      <td>516686.0</td>\n",
              "      <td>295938.0</td>\n",
              "      <td>4.480466</td>\n",
              "      <td>2.090117</td>\n",
              "      <td>656696.848512</td>\n",
              "      <td>...</td>\n",
              "      <td>0.565284</td>\n",
              "      <td>0.600000</td>\n",
              "      <td>0.416667</td>\n",
              "      <td>0.547907</td>\n",
              "      <td>0.565284</td>\n",
              "      <td>-1.091492</td>\n",
              "      <td>0.001576</td>\n",
              "      <td>0.094206</td>\n",
              "      <td>0.008875</td>\n",
              "      <td>1</td>\n",
              "    </tr>\n",
              "  </tbody>\n",
              "</table>\n",
              "<p>5 rows × 45 columns</p>\n",
              "</div>\n",
              "      <button class=\"colab-df-convert\" onclick=\"convertToInteractive('df-62d7e425-6482-4942-a948-8f77d5a36e8e')\"\n",
              "              title=\"Convert this dataframe to an interactive table.\"\n",
              "              style=\"display:none;\">\n",
              "        \n",
              "  <svg xmlns=\"http://www.w3.org/2000/svg\" height=\"24px\"viewBox=\"0 0 24 24\"\n",
              "       width=\"24px\">\n",
              "    <path d=\"M0 0h24v24H0V0z\" fill=\"none\"/>\n",
              "    <path d=\"M18.56 5.44l.94 2.06.94-2.06 2.06-.94-2.06-.94-.94-2.06-.94 2.06-2.06.94zm-11 1L8.5 8.5l.94-2.06 2.06-.94-2.06-.94L8.5 2.5l-.94 2.06-2.06.94zm10 10l.94 2.06.94-2.06 2.06-.94-2.06-.94-.94-2.06-.94 2.06-2.06.94z\"/><path d=\"M17.41 7.96l-1.37-1.37c-.4-.4-.92-.59-1.43-.59-.52 0-1.04.2-1.43.59L10.3 9.45l-7.72 7.72c-.78.78-.78 2.05 0 2.83L4 21.41c.39.39.9.59 1.41.59.51 0 1.02-.2 1.41-.59l7.78-7.78 2.81-2.81c.8-.78.8-2.07 0-2.86zM5.41 20L4 18.59l7.72-7.72 1.47 1.35L5.41 20z\"/>\n",
              "  </svg>\n",
              "      </button>\n",
              "      \n",
              "  <style>\n",
              "    .colab-df-container {\n",
              "      display:flex;\n",
              "      flex-wrap:wrap;\n",
              "      gap: 12px;\n",
              "    }\n",
              "\n",
              "    .colab-df-convert {\n",
              "      background-color: #E8F0FE;\n",
              "      border: none;\n",
              "      border-radius: 50%;\n",
              "      cursor: pointer;\n",
              "      display: none;\n",
              "      fill: #1967D2;\n",
              "      height: 32px;\n",
              "      padding: 0 0 0 0;\n",
              "      width: 32px;\n",
              "    }\n",
              "\n",
              "    .colab-df-convert:hover {\n",
              "      background-color: #E2EBFA;\n",
              "      box-shadow: 0px 1px 2px rgba(60, 64, 67, 0.3), 0px 1px 3px 1px rgba(60, 64, 67, 0.15);\n",
              "      fill: #174EA6;\n",
              "    }\n",
              "\n",
              "    [theme=dark] .colab-df-convert {\n",
              "      background-color: #3B4455;\n",
              "      fill: #D2E3FC;\n",
              "    }\n",
              "\n",
              "    [theme=dark] .colab-df-convert:hover {\n",
              "      background-color: #434B5C;\n",
              "      box-shadow: 0px 1px 3px 1px rgba(0, 0, 0, 0.15);\n",
              "      filter: drop-shadow(0px 1px 2px rgba(0, 0, 0, 0.3));\n",
              "      fill: #FFFFFF;\n",
              "    }\n",
              "  </style>\n",
              "\n",
              "      <script>\n",
              "        const buttonEl =\n",
              "          document.querySelector('#df-62d7e425-6482-4942-a948-8f77d5a36e8e button.colab-df-convert');\n",
              "        buttonEl.style.display =\n",
              "          google.colab.kernel.accessAllowed ? 'block' : 'none';\n",
              "\n",
              "        async function convertToInteractive(key) {\n",
              "          const element = document.querySelector('#df-62d7e425-6482-4942-a948-8f77d5a36e8e');\n",
              "          const dataTable =\n",
              "            await google.colab.kernel.invokeFunction('convertToInteractive',\n",
              "                                                     [key], {});\n",
              "          if (!dataTable) return;\n",
              "\n",
              "          const docLinkHtml = 'Like what you see? Visit the ' +\n",
              "            '<a target=\"_blank\" href=https://colab.research.google.com/notebooks/data_table.ipynb>data table notebook</a>'\n",
              "            + ' to learn more about interactive tables.';\n",
              "          element.innerHTML = '';\n",
              "          dataTable['output_type'] = 'display_data';\n",
              "          await google.colab.output.renderOutput(dataTable, element);\n",
              "          const docLink = document.createElement('div');\n",
              "          docLink.innerHTML = docLinkHtml;\n",
              "          element.appendChild(docLink);\n",
              "        }\n",
              "      </script>\n",
              "    </div>\n",
              "  </div>\n",
              "  "
            ]
          },
          "metadata": {},
          "execution_count": 1
        }
      ],
      "source": [
        "import pandas as pd\n",
        "import numpy as np\n",
        "\n",
        "kor_df = pd.read_csv(\"/content/lan_dataset.csv\")\n",
        "na_df = pd.read_csv(\"/content/na_dataset.csv\")\n",
        "kor_df.head()\n"
      ]
    },
    {
      "cell_type": "code",
      "source": [
        "from google.colab import drive\n",
        "drive.mount('/content/drive')"
      ],
      "metadata": {
        "colab": {
          "base_uri": "https://localhost:8080/"
        },
        "id": "kVBn87uekPFg",
        "outputId": "2a3606bc-234b-4361-bad9-345a0984b751"
      },
      "execution_count": null,
      "outputs": [
        {
          "output_type": "stream",
          "name": "stdout",
          "text": [
            "Mounted at /content/drive\n"
          ]
        }
      ]
    },
    {
      "cell_type": "code",
      "execution_count": 2,
      "metadata": {
        "colab": {
          "base_uri": "https://localhost:8080/"
        },
        "id": "aTLzFD7niK4U",
        "outputId": "5218bec5-99e6-4eef-8342-3407835a7ee9"
      },
      "outputs": [
        {
          "output_type": "stream",
          "name": "stdout",
          "text": [
            "x_train size: 12458\n",
            "y_train size: 12458\n",
            "x_test size: 4552\n",
            "y_test size: 4552\n"
          ]
        }
      ],
      "source": [
        "kor_dataset = kor_df.to_numpy()\n",
        "na_dataset = na_df.to_numpy()\n",
        "\n",
        "np.random.shuffle(kor_dataset)\n",
        "np.random.shuffle(na_dataset)\n",
        "#마지막 특성이 승리 여부(라벨)\n",
        "x_train = kor_dataset[:, 0:44]\n",
        "y_train = kor_dataset[:, 44]\n",
        "\n",
        "x_test = na_dataset[:, 0:44]\n",
        "y_test = na_dataset[:, 44]\n",
        "\n",
        "\n",
        "print(f\"x_train size: {len(x_train)}\")\n",
        "print(f\"y_train size: {len(y_train)}\")\n",
        "\n",
        "\n",
        "print(f\"x_test size: {len(x_test)}\")\n",
        "print(f\"y_test size: {len(y_test)}\")\n"
      ]
    },
    {
      "cell_type": "code",
      "execution_count": 9,
      "metadata": {
        "colab": {
          "base_uri": "https://localhost:8080/"
        },
        "id": "OfXXt0nBiK4W",
        "outputId": "80dced58-a678-4b52-dffa-f0e3d60cc2be"
      },
      "outputs": [
        {
          "output_type": "stream",
          "name": "stderr",
          "text": [
            "/usr/local/lib/python3.10/dist-packages/keras/initializers/initializers.py:120: UserWarning: The initializer HeNormal is unseeded and being called multiple times, which will return identical values each time (even if the initializer is unseeded). Please update your code to provide a seed to the initializer, or avoid using the same initalizer instance more than once.\n",
            "  warnings.warn(\n"
          ]
        }
      ],
      "source": [
        "from keras.initializers import HeNormal\n",
        "from keras.models import Sequential\n",
        "from keras.layers import Dense, Dropout, BatchNormalization\n",
        "\n",
        "# 롤 모델 훈련 구조 생성\n",
        "initializer = HeNormal()\n",
        "model = Sequential(\n",
        "    [\n",
        "        Dropout(0.1, input_dim=44),\n",
        "        BatchNormalization(),\n",
        "        Dense(160, activation=\"elu\", kernel_initializer=initializer),\n",
        "        Dropout(0.1),\n",
        "        BatchNormalization(),\n",
        "        Dense(128, activation=\"elu\", kernel_initializer=initializer),\n",
        "        Dropout(0.1),\n",
        "        BatchNormalization(),\n",
        "        Dense(64, activation=\"elu\", kernel_initializer=initializer),\n",
        "        Dropout(0.1),\n",
        "        BatchNormalization(),\n",
        "        Dense(32, activation=\"elu\", kernel_initializer=initializer),\n",
        "        Dropout(0.1),\n",
        "        BatchNormalization(),\n",
        "        Dense(16, activation=\"elu\", kernel_initializer=initializer),\n",
        "        Dense(1, activation=\"sigmoid\"),\n",
        "    ]\n",
        ")\n",
        "#손실함수로는 이진 분류에 사용되는 binary_crossentropy를 사용했고 Optimizer은 RMSProp과 Momentum의 장점을 합친 adam으로 선택\n",
        "model.compile(loss=\"binary_crossentropy\", optimizer=\"adam\", metrics=[\"accuracy\"])\n"
      ]
    },
    {
      "cell_type": "markdown",
      "source": [
        "batch_size는 보편적으로 16, 64, 128, 256을 많이 사용하는데 데이터가 많아 256으로 선택했고,\n",
        "에포크는 훈련 데이터 수 / 배치 사이즈 =49로 했는데 결과가 제일 좋아 선택"
      ],
      "metadata": {
        "id": "C_Ia0ohh0v2d"
      }
    },
    {
      "cell_type": "code",
      "execution_count": 10,
      "metadata": {
        "colab": {
          "base_uri": "https://localhost:8080/"
        },
        "id": "-8_xICZPiK4X",
        "outputId": "21692e7b-47a0-41ea-b9bd-7d5093e713cf"
      },
      "outputs": [
        {
          "output_type": "stream",
          "name": "stdout",
          "text": [
            "Epoch 1/49\n",
            "49/49 [==============================] - 5s 22ms/step - loss: 0.4287 - accuracy: 0.8000 - val_loss: 0.4253 - val_accuracy: 0.8003\n",
            "Epoch 2/49\n",
            "49/49 [==============================] - 1s 16ms/step - loss: 0.3522 - accuracy: 0.8430 - val_loss: 0.3659 - val_accuracy: 0.8350\n",
            "Epoch 3/49\n",
            "49/49 [==============================] - 1s 17ms/step - loss: 0.3429 - accuracy: 0.8452 - val_loss: 0.3398 - val_accuracy: 0.8473\n",
            "Epoch 4/49\n",
            "49/49 [==============================] - 1s 15ms/step - loss: 0.3296 - accuracy: 0.8523 - val_loss: 0.3192 - val_accuracy: 0.8634\n",
            "Epoch 5/49\n",
            "49/49 [==============================] - 1s 15ms/step - loss: 0.3201 - accuracy: 0.8574 - val_loss: 0.3036 - val_accuracy: 0.8649\n",
            "Epoch 6/49\n",
            "49/49 [==============================] - 1s 16ms/step - loss: 0.3062 - accuracy: 0.8632 - val_loss: 0.2867 - val_accuracy: 0.8741\n",
            "Epoch 7/49\n",
            "49/49 [==============================] - 1s 17ms/step - loss: 0.2920 - accuracy: 0.8728 - val_loss: 0.2762 - val_accuracy: 0.8792\n",
            "Epoch 8/49\n",
            "49/49 [==============================] - 1s 16ms/step - loss: 0.2877 - accuracy: 0.8753 - val_loss: 0.2716 - val_accuracy: 0.8809\n",
            "Epoch 9/49\n",
            "49/49 [==============================] - 1s 14ms/step - loss: 0.2809 - accuracy: 0.8772 - val_loss: 0.2694 - val_accuracy: 0.8818\n",
            "Epoch 10/49\n",
            "49/49 [==============================] - 1s 18ms/step - loss: 0.2722 - accuracy: 0.8817 - val_loss: 0.2668 - val_accuracy: 0.8844\n",
            "Epoch 11/49\n",
            "49/49 [==============================] - 1s 24ms/step - loss: 0.2730 - accuracy: 0.8838 - val_loss: 0.2662 - val_accuracy: 0.8827\n",
            "Epoch 12/49\n",
            "49/49 [==============================] - 1s 23ms/step - loss: 0.2696 - accuracy: 0.8841 - val_loss: 0.2644 - val_accuracy: 0.8825\n",
            "Epoch 13/49\n",
            "49/49 [==============================] - 1s 19ms/step - loss: 0.2691 - accuracy: 0.8847 - val_loss: 0.2658 - val_accuracy: 0.8807\n",
            "Epoch 14/49\n",
            "49/49 [==============================] - 1s 17ms/step - loss: 0.2711 - accuracy: 0.8840 - val_loss: 0.2624 - val_accuracy: 0.8842\n",
            "Epoch 15/49\n",
            "49/49 [==============================] - 1s 17ms/step - loss: 0.2686 - accuracy: 0.8817 - val_loss: 0.2644 - val_accuracy: 0.8844\n",
            "Epoch 16/49\n",
            "49/49 [==============================] - 1s 17ms/step - loss: 0.2668 - accuracy: 0.8822 - val_loss: 0.2649 - val_accuracy: 0.8816\n",
            "Epoch 17/49\n",
            "49/49 [==============================] - 1s 17ms/step - loss: 0.2608 - accuracy: 0.8882 - val_loss: 0.2645 - val_accuracy: 0.8807\n",
            "Epoch 18/49\n",
            "49/49 [==============================] - 1s 16ms/step - loss: 0.2621 - accuracy: 0.8885 - val_loss: 0.2632 - val_accuracy: 0.8812\n",
            "Epoch 19/49\n",
            "49/49 [==============================] - 1s 15ms/step - loss: 0.2628 - accuracy: 0.8852 - val_loss: 0.2626 - val_accuracy: 0.8831\n",
            "Epoch 20/49\n",
            "49/49 [==============================] - 1s 17ms/step - loss: 0.2631 - accuracy: 0.8844 - val_loss: 0.2640 - val_accuracy: 0.8812\n",
            "Epoch 21/49\n",
            "49/49 [==============================] - 1s 16ms/step - loss: 0.2568 - accuracy: 0.8883 - val_loss: 0.2641 - val_accuracy: 0.8803\n",
            "Epoch 22/49\n",
            "49/49 [==============================] - 1s 17ms/step - loss: 0.2538 - accuracy: 0.8895 - val_loss: 0.2618 - val_accuracy: 0.8818\n",
            "Epoch 23/49\n",
            "49/49 [==============================] - 1s 17ms/step - loss: 0.2528 - accuracy: 0.8888 - val_loss: 0.2640 - val_accuracy: 0.8820\n",
            "Epoch 24/49\n",
            "49/49 [==============================] - 1s 16ms/step - loss: 0.2523 - accuracy: 0.8907 - val_loss: 0.2621 - val_accuracy: 0.8818\n",
            "Epoch 25/49\n",
            "49/49 [==============================] - 1s 20ms/step - loss: 0.2567 - accuracy: 0.8919 - val_loss: 0.2647 - val_accuracy: 0.8785\n",
            "Epoch 26/49\n",
            "49/49 [==============================] - 1s 24ms/step - loss: 0.2537 - accuracy: 0.8881 - val_loss: 0.2619 - val_accuracy: 0.8794\n",
            "Epoch 27/49\n",
            "49/49 [==============================] - 1s 23ms/step - loss: 0.2526 - accuracy: 0.8885 - val_loss: 0.2609 - val_accuracy: 0.8820\n",
            "Epoch 28/49\n",
            "49/49 [==============================] - 1s 18ms/step - loss: 0.2541 - accuracy: 0.8920 - val_loss: 0.2626 - val_accuracy: 0.8822\n",
            "Epoch 29/49\n",
            "49/49 [==============================] - 1s 15ms/step - loss: 0.2530 - accuracy: 0.8911 - val_loss: 0.2627 - val_accuracy: 0.8825\n",
            "Epoch 30/49\n",
            "49/49 [==============================] - 1s 17ms/step - loss: 0.2516 - accuracy: 0.8903 - val_loss: 0.2640 - val_accuracy: 0.8807\n",
            "Epoch 31/49\n",
            "49/49 [==============================] - 1s 16ms/step - loss: 0.2481 - accuracy: 0.8922 - val_loss: 0.2634 - val_accuracy: 0.8825\n",
            "Epoch 32/49\n",
            "49/49 [==============================] - 1s 16ms/step - loss: 0.2533 - accuracy: 0.8899 - val_loss: 0.2627 - val_accuracy: 0.8818\n",
            "Epoch 33/49\n",
            "49/49 [==============================] - 1s 14ms/step - loss: 0.2477 - accuracy: 0.8924 - val_loss: 0.2644 - val_accuracy: 0.8812\n",
            "Epoch 34/49\n",
            "49/49 [==============================] - 1s 14ms/step - loss: 0.2523 - accuracy: 0.8872 - val_loss: 0.2642 - val_accuracy: 0.8818\n",
            "Epoch 35/49\n",
            "49/49 [==============================] - 1s 14ms/step - loss: 0.2534 - accuracy: 0.8903 - val_loss: 0.2647 - val_accuracy: 0.8816\n",
            "Epoch 36/49\n",
            "49/49 [==============================] - 1s 16ms/step - loss: 0.2486 - accuracy: 0.8904 - val_loss: 0.2633 - val_accuracy: 0.8838\n",
            "Epoch 37/49\n",
            "49/49 [==============================] - 1s 16ms/step - loss: 0.2536 - accuracy: 0.8904 - val_loss: 0.2636 - val_accuracy: 0.8838\n",
            "Epoch 38/49\n",
            "49/49 [==============================] - 1s 14ms/step - loss: 0.2495 - accuracy: 0.8928 - val_loss: 0.2625 - val_accuracy: 0.8822\n",
            "Epoch 39/49\n",
            "49/49 [==============================] - 1s 14ms/step - loss: 0.2458 - accuracy: 0.8921 - val_loss: 0.2630 - val_accuracy: 0.8803\n",
            "Epoch 40/49\n",
            "49/49 [==============================] - 1s 17ms/step - loss: 0.2489 - accuracy: 0.8885 - val_loss: 0.2658 - val_accuracy: 0.8779\n",
            "Epoch 41/49\n",
            "49/49 [==============================] - 1s 23ms/step - loss: 0.2497 - accuracy: 0.8904 - val_loss: 0.2622 - val_accuracy: 0.8816\n",
            "Epoch 42/49\n",
            "49/49 [==============================] - 1s 25ms/step - loss: 0.2469 - accuracy: 0.8908 - val_loss: 0.2646 - val_accuracy: 0.8809\n",
            "Epoch 43/49\n",
            "49/49 [==============================] - 1s 23ms/step - loss: 0.2425 - accuracy: 0.8949 - val_loss: 0.2640 - val_accuracy: 0.8809\n",
            "Epoch 44/49\n",
            "49/49 [==============================] - 1s 16ms/step - loss: 0.2491 - accuracy: 0.8907 - val_loss: 0.2624 - val_accuracy: 0.8816\n",
            "Epoch 45/49\n",
            "49/49 [==============================] - 1s 15ms/step - loss: 0.2464 - accuracy: 0.8929 - val_loss: 0.2643 - val_accuracy: 0.8798\n",
            "Epoch 46/49\n",
            "49/49 [==============================] - 1s 15ms/step - loss: 0.2458 - accuracy: 0.8928 - val_loss: 0.2661 - val_accuracy: 0.8796\n",
            "Epoch 47/49\n",
            "49/49 [==============================] - 1s 15ms/step - loss: 0.2487 - accuracy: 0.8931 - val_loss: 0.2648 - val_accuracy: 0.8801\n",
            "Epoch 48/49\n",
            "49/49 [==============================] - 1s 17ms/step - loss: 0.2450 - accuracy: 0.8912 - val_loss: 0.2636 - val_accuracy: 0.8818\n",
            "Epoch 49/49\n",
            "49/49 [==============================] - 1s 15ms/step - loss: 0.2424 - accuracy: 0.8934 - val_loss: 0.2651 - val_accuracy: 0.8792\n"
          ]
        }
      ],
      "source": [
        "history = model.fit(\n",
        "    x_train, y_train, validation_data=(x_test, y_test), epochs=49,batch_size=256\n",
        ")\n"
      ]
    },
    {
      "cell_type": "code",
      "execution_count": 11,
      "metadata": {
        "colab": {
          "base_uri": "https://localhost:8080/"
        },
        "id": "OHT4HcDyiK4Y",
        "outputId": "f2abc9ce-06f7-4c97-92ba-fb7e91cf5ce4"
      },
      "outputs": [
        {
          "output_type": "stream",
          "name": "stdout",
          "text": [
            "Train Accuracy: 90.66%\n",
            "Test Accuracy: 87.92%\n"
          ]
        }
      ],
      "source": [
        "_, train_acc = model.evaluate(x_train, y_train, verbose=0)\n",
        "_, test_acc = model.evaluate(x_test, y_test, verbose=0)\n",
        "\n",
        "print(\"Train Accuracy: {:.2f}%\".format(train_acc * 100))\n",
        "print(\"Test Accuracy: {:.2f}%\".format(test_acc * 100))\n"
      ]
    },
    {
      "cell_type": "code",
      "execution_count": 12,
      "metadata": {
        "colab": {
          "base_uri": "https://localhost:8080/",
          "height": 251
        },
        "id": "6eD3AvKfiK4Z",
        "outputId": "0b7f5460-a4f8-41e7-94a0-dfb31fec4eef"
      },
      "outputs": [
        {
          "output_type": "display_data",
          "data": {
            "text/plain": [
              "<Figure size 640x480 with 1 Axes>"
            ],
            "image/png": "[encoded data removed]"
          },
          "metadata": {}
        }
      ],
      "source": [
        "from matplotlib import pyplot\n",
        "\n",
        "pyplot.subplot(211)\n",
        "pyplot.title(\"Loss\")\n",
        "pyplot.plot(history.history[\"loss\"], label=\"Loss\")\n",
        "pyplot.plot(history.history[\"val_loss\"], label=\"Validation Loss\")\n",
        "pyplot.legend()\n",
        "pyplot.show()\n"
      ]
    },
    {
      "cell_type": "code",
      "execution_count": 13,
      "metadata": {
        "colab": {
          "base_uri": "https://localhost:8080/",
          "height": 251
        },
        "id": "OlebKPnciK4Z",
        "outputId": "538480f0-ed67-44ad-bf03-a4d335c1a441"
      },
      "outputs": [
        {
          "output_type": "display_data",
          "data": {
            "text/plain": [
              "<Figure size 640x480 with 1 Axes>"
            ],
            "image/png": "[encoded data removed]"
          },
          "metadata": {}
        }
      ],
      "source": [
        "pyplot.subplot(212)\n",
        "pyplot.title(\"Accuracy\")\n",
        "pyplot.plot(history.history[\"accuracy\"], label=\"Accuracy\")\n",
        "pyplot.plot(history.history[\"val_accuracy\"], label=\"Validation Accuracy\")\n",
        "pyplot.legend()\n",
        "pyplot.show()\n"
      ]
    },
    {
      "cell_type": "markdown",
      "source": [
        "조금 과소적합 같지만 손실곡선과 학습 곡선을 그려보니 좋은 그림이 나와 최종 모델로 선택"
      ],
      "metadata": {
        "id": "t-7-gEPc2Tsn"
      }
    }
  ],
  "metadata": {
    "interpreter": {
      "hash": "691eb79eb72537d0883bca6d88dcdf7f09ae44591fb81d1bfe079677ef04f4ec"
    },
    "kernelspec": {
      "display_name": "Python 3 (ipykernel)",
      "language": "python",
      "name": "python3"
    },
    "language_info": {
      "codemirror_mode": {
        "name": "ipython",
        "version": 3
      },
      "file_extension": ".py",
      "mimetype": "text/x-python",
      "name": "python",
      "nbconvert_exporter": "python",
      "pygments_lexer": "ipython3",
      "version": "3.10.1"
    },
    "colab": {
      "provenance": []
    }
  },
  "nbformat": 4,
  "nbformat_minor": 0
}