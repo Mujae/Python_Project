{
 "cells": [
  {
   "cell_type": "code",
   "execution_count": 8,
   "id": "c329a7fc-f75d-4c7b-9ff7-3df07bb17c9d",
   "metadata": {},
   "outputs": [
    {
     "name": "stdout",
     "output_type": "stream",
     "text": [
      "\n",
      "\n",
      "\n",
      " \n",
      "\n",
      "\n",
      "\n",
      "   광고 후 계속됩니다.     다음 subject author   \n",
      "\t\t\t취소\n",
      "\t\t   [날씨] 충북 전역 폭염주의보…내일 아침까지 비 \n",
      "\tKBS뉴스\n",
      " \n",
      "\t재생 \n",
      " 699                  0:00:00    \n",
      "\t\t재생\n",
      "\t    \n",
      "\t\t음소거\n",
      "\t         \n",
      "\t00:00\n",
      "  \n",
      "\t01:51\n",
      " 실시간    \n",
      "\t\t자막 켜기\n",
      "\t   \n",
      "\t\t설정\n",
      "\t   \n",
      "\t\t넓은 화면\n",
      "\t   \n",
      "\t\t전체 화면\n",
      "\t      \n",
      "\t\t\t해상도\n",
      "\t\t 자동 480p   \n",
      "\t\t\t자막\n",
      "\t\t 사용 안함  \n",
      "\t\t\t재생 속도\n",
      "\t\t 1.0x (기본)   해상도   \n",
      "\t\t\t자동 (480p)\n",
      "\t\t   \n",
      "\t\t\t720p\n",
      "\t\t HD    \n",
      "\t\t\t480p\n",
      "\t\t   \n",
      "\t\t\t360p\n",
      "\t\t   \n",
      "\t\t\t270p\n",
      "\t\t   \n",
      "\t\t\t144p\n",
      "\t\t    자막 \n",
      "\t설정\n",
      "   \n",
      "\t\t\t사용 안함\n",
      "\t\t  한국어 (자동 생성)       옵션  글자 크기    배경색    재생 속도   0.5x 1.0x (기본) 1.5x 2.0x    \n",
      "        알 수 없는 오류가 발생했습니다.\n",
      "     \n",
      "                        도움말 보기\n",
      "                       음소거 상태입니다. \n",
      "                    도움말\n",
      "                \n",
      "                    라이선스\n",
      "                 \n",
      "\t\t\t\t고화질 재생이 가능한 영상입니다.\n",
      "\t\t\t\t설정에서 해상도를 변경해보세요.\n",
      "\t\t\t 더 알아보기 \n",
      "\t0:00:00\n",
      "             \n",
      "\n",
      "[KBS 청주] 종일 비가 오락가락하는 가운데 폭염이 기승입니다. 충북 전 지역에는 폭염주의보가 내려졌는데요. 앞으로 기온은 더 오르겠습니다. 내일 청주 한낮기온 31도,  목요일인 모레는 33도까지 오르며 무더위는 더욱 기세를 올리겠는데요. 밤사이에도  한낮의 열기가 식지 않고 열대야가 이어지겠습니다. 밤낮 할 것 없는 더위에 지치지 않도록 건강 잘 챙기시기 바랍니다. 비는 오늘 밤사이 대부분 그치겠지만 북부 지역은 내일 아침까지 이어지는 곳이 있겠는데요. 예상되는 비의 양은 5에서 40mm 정도 고요.  돌풍이 불겠고  벼락이 치는 곳도 있겠습니다. 비가 그쳐도 소나기가 이어져 우산은 계속 챙겨 다니셔야겠는데요. 내일 오전부터 저녁 사이 돌풍과 벼락을 동반한 소나기가 내리겠습니다. 예상 강수량은 5에서 60mm,  많은 곳은 80mm 이상입니다. 다음은 자세한 지역별 내일 날씨입니다. 내일 아침 기온 청주 25도, 충주와 진천 23도, 제천은 22도로 출발합니다. 한낮 기온은 청주와 충주 31도, 제천과 보은은 30도까지 올라 무덥겠습니다.  당분간 폭염과 열대야가 이어지겠고요. 소나기 소식이 잦겠습니다. 토요일에는 한차례 비가 내리겠습니다. 날씨였습니다.\n",
      "\n"
     ]
    }
   ],
   "source": [
    "from bs4 import BeautifulSoup\n",
    "import chromedriver_autoinstaller as ca\n",
    "from selenium import webdriver\n",
    "import time, os, sys\n",
    "from selenium.webdriver.common.by import By\n",
    "from selenium.webdriver.common.keys import Keys\n",
    "\n",
    "driver = webdriver.Chrome()\n",
    "driver.get('https://n.news.naver.com/mnews/article/056/0011532452?sid=103')\n",
    "time.sleep(2)\n",
    "driver.maximize_window()\n",
    "\n",
    "soup_1 = BeautifulSoup(driver.page_source, 'html.parser')\n",
    "\n",
    "li = soup_1.find('div', class_=\"go_trans _article_content\")\n",
    "print(li.get_text())\n",
    "time.sleep(7)\n",
    "driver.quit()"
   ]
  },
  {
   "cell_type": "code",
   "execution_count": 24,
   "id": "1df7e718-5951-49dc-a670-a34448da6169",
   "metadata": {},
   "outputs": [
    {
     "name": "stdout",
     "output_type": "stream",
     "text": [
      "종일 비가 오락가락하는 가운데 폭염이 기승입니다. 충북 전 지역에는 폭염주의보가 내려졌는데요. 앞으로 기온은 더 오르겠습니다. 내일 청주 한낮기온 31도,  목요일인 모레는 33도까지 오르며 무더위는 더욱 기세를 올리겠는데요. 밤사이에도  한낮의 열기가 식지 않고 열대야가 이어지겠습니다. 밤낮 할 것 없는 더위에 지치지 않도록 건강 잘 챙기시기 바랍니다. 비는 오늘 밤사이 대부분 그치겠지만 북부 지역은 내일 아침까지 이어지는 곳이 있겠는데요. 예상되는 비의 양은 5에서 40mm 정도 고요.  돌풍이 불겠고  벼락이 치는 곳도 있겠습니다. 비가 그쳐도 소나기가 이어져 우산은 계속 챙겨 다니셔야겠는데요. 내일 오전부터 저녁 사이 돌풍과 벼락을 동반한 소나기가 내리겠습니다. 예상 강수량은 5에서 60mm,  많은 곳은 80mm 이상입니다. 다음은 자세한 지역별 내일 날씨입니다. 내일 아침 기온 청주 25도, 충주와 진천 23도, 제천은 22도로 출발합니다. 한낮 기온은 청주와 충주 31도, 제천과 보은은 30도까지 올라 무덥겠습니다.  당분간 폭염과 열대야가 이어지겠고요. 소나기 소식이 잦겠습니다. 토요일에는 한차례 비가 내리겠습니다. 날씨였습니다.\n"
     ]
    }
   ],
   "source": [
    "text = li.get_text()[776:].strip()\n",
    "print(text)\n",
    "text2 = list(text.split())"
   ]
  },
  {
   "cell_type": "code",
   "execution_count": 31,
   "id": "1466b246-a816-4f4c-8006-1c2e05cfa5fb",
   "metadata": {},
   "outputs": [
    {
     "name": "stdout",
     "output_type": "stream",
     "text": [
      "<re.Match object; span=(0, 4), match='40mm'> <re.Match object; span=(0, 4), match='60mm'> <re.Match object; span=(0, 4), match='80mm'>\n",
      "40mm\n",
      "60mm\n",
      "80mm\n"
     ]
    }
   ],
   "source": [
    "import re\n",
    "li=[]\n",
    "for i in text2:\n",
    "    a=re.match('^[0-9]+mm+',i)\n",
    "    if a!=None:\n",
    "        li.append(a)\n",
    "print(*li)\n",
    "for i in li:\n",
    "    print(str(i)[-6:-2])"
   ]
  }
 ],
 "metadata": {
  "kernelspec": {
   "display_name": "Python 3 (ipykernel)",
   "language": "python",
   "name": "python3"
  },
  "language_info": {
   "codemirror_mode": {
    "name": "ipython",
    "version": 3
   },
   "file_extension": ".py",
   "mimetype": "text/x-python",
   "name": "python",
   "nbconvert_exporter": "python",
   "pygments_lexer": "ipython3",
   "version": "3.10.4"
  }
 },
 "nbformat": 4,
 "nbformat_minor": 5
}
