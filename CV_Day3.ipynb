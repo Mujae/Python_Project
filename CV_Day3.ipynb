{
  "nbformat": 4,
  "nbformat_minor": 0,
  "metadata": {
    "colab": {
      "provenance": []
    },
    "kernelspec": {
      "name": "python3",
      "display_name": "Python 3"
    },
    "language_info": {
      "name": "python"
    }
  },
  "cells": [
    {
      "cell_type": "code",
      "execution_count": null,
      "metadata": {
        "id": "RCACAbDq1Mbx"
      },
      "outputs": [],
      "source": [
        "import numpy as np\n",
        "import matplotlib.pyplot as plt\n",
        "import cv2"
      ]
    },
    {
      "cell_type": "code",
      "source": [
        "def onChange(x):\n",
        "  pass\n",
        "def edge_detection():\n",
        "  img3 = cv2.imread(\"/content/rqer.jpeg\", cv2.COLOR_BGR2GRAY)\n",
        "  cv2.namedWindow('edge')\n",
        "\n",
        "  cv2.createTrackbar('low', 'edge', 0, 255, onChange)\n",
        "  cv2.createTrackbar('high', 'edge', 0, 255, onChange)\n",
        "\n",
        "  while True:\n",
        "    k = cv2.waitKey(0)&0xFF\n",
        "\n",
        "    if k ==27:\n",
        "      break\n",
        "\n",
        "    low = cv2.getTrackbarPos('low', 'edge')\n",
        "    high = cv2.getTrackbarPos('high', 'edge')\n",
        "\n",
        "    if low > high:\n",
        "      print(\"FK\")\n",
        "\n",
        "    elif ((low==0) and (high ==0)):\n",
        "      cv2.imshow('edge', img3)\n",
        "    else:\n",
        "      canny = cv2.Canny(img3, low, high)\n",
        "      cv2.imshow('edge', canny)\n",
        "  cv2.destroyAllWindow()"
      ],
      "metadata": {
        "id": "DYUZR7RwHy2b"
      },
      "execution_count": null,
      "outputs": []
    },
    {
      "cell_type": "code",
      "source": [
        "edge_detection()"
      ],
      "metadata": {
        "id": "a48n05EZJLPB"
      },
      "execution_count": null,
      "outputs": []
    },
    {
      "cell_type": "code",
      "source": [],
      "metadata": {
        "id": "fCpOXBgtJN5E"
      },
      "execution_count": null,
      "outputs": []
    }
  ]
}