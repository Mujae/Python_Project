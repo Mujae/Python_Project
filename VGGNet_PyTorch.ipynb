{
  "nbformat": 4,
  "nbformat_minor": 0,
  "metadata": {
    "colab": {
      "provenance": [],
      "machine_shape": "hm",
      "gpuType": "A100"
    },
    "kernelspec": {
      "name": "python3",
      "display_name": "Python 3"
    },
    "language_info": {
      "name": "python"
    },
    "accelerator": "GPU"
  },
  "cells": [
    {
      "cell_type": "code",
      "execution_count": 1,
      "metadata": {
        "id": "zftKtrpT_C2J"
      },
      "outputs": [],
      "source": [
        "import torch\n",
        "import torch.nn as nn\n",
        "import torch.optim as optim\n",
        "import torch.nn.init as init\n",
        "import torchvision.datasets as dset\n",
        "import torchvision.transforms as transforms\n",
        "from torch.utils.data import DataLoader\n",
        "\n",
        "batch_size = 256\n",
        "learning_rate = 0.0002\n",
        "num_epoch = 10"
      ]
    },
    {
      "cell_type": "code",
      "source": [
        "def conv_2_block(in_dim, out_dim):\n",
        "  model = nn.Sequential(\n",
        "      nn.Conv2d(in_dim, out_dim, kernel_size=3, stride=1, padding=1),\n",
        "      nn.ReLU(),\n",
        "      nn.Conv2d(out_dim, out_dim, kernel_size=3, stride=1, padding=1),\n",
        "      nn.ReLU(),\n",
        "      nn.MaxPool2d(2,2)\n",
        "  )\n",
        "  return model\n",
        "\n",
        "def conv_3_block(in_dim, out_dim):\n",
        "  model = nn.Sequential(\n",
        "      nn.Conv2d(in_dim, out_dim, kernel_size=3, stride=1, padding=1),\n",
        "      nn.ReLU(),\n",
        "      nn.Conv2d(out_dim, out_dim, kernel_size = 3, padding=1),\n",
        "      nn.ReLU(),\n",
        "      nn.Conv2d(out_dim, out_dim, kernel_size=3, padding=1),\n",
        "      nn.ReLU(),\n",
        "      nn.MaxPool2d(2,2)\n",
        "  )\n",
        "  return model"
      ],
      "metadata": {
        "id": "-b3Z4wBzAIp0"
      },
      "execution_count": 3,
      "outputs": []
    },
    {
      "cell_type": "code",
      "source": [
        "class VGG(nn.Module):\n",
        "  def __init__(self, base_dim, num_classes=2):\n",
        "    super(VGG, self).__init__()\n",
        "    self.feature = nn.Sequential(\n",
        "        conv_2_block(3, base_dim),\n",
        "        conv_2_block(base_dim, base_dim*2),\n",
        "        conv_3_block(base_dim*2, base_dim*4),\n",
        "        conv_3_block(base_dim*4, base_dim*8),\n",
        "        conv_3_block(base_dim*8, base_dim*8)\n",
        "    )\n",
        "    self.fc_layer = nn.Sequential(\n",
        "        nn.Linear(8*base_dim*7*7,100),\n",
        "        nn.ReLU(True),\n",
        "        nn.Linear(100, 20),\n",
        "        nn.ReLU(True),\n",
        "        nn.Linear(20, num_classes)\n",
        "    )\n",
        "    def forward(self, x):\n",
        "      x = self.feature(x)\n",
        "      x=x.view(x.size(0), -1)\n",
        "      x=self.fc_layer(x)\n",
        "      return x"
      ],
      "metadata": {
        "id": "WUKGHCyaBQwU"
      },
      "execution_count": 4,
      "outputs": []
    },
    {
      "cell_type": "markdown",
      "source": [
        "# PyTorch 공식"
      ],
      "metadata": {
        "id": "FyocOasiCnxB"
      }
    },
    {
      "cell_type": "code",
      "source": [
        "class VGG(nn.Module):\n",
        "  def __init__(self, features, num_classes=1000, init_weights =True):\n",
        "    super(VGG, self).__init__()\n",
        "    self.features = features\n",
        "    self.avgpool = nn.AdaptiveAbgPool2d((7,7))\n",
        "    self.classifier = nn.Sequential(\n",
        "        nn.Linear(512*7*7, 4096),\n",
        "        nn.ReLU(True),\n",
        "        nn.Linear(4096, 4096),\n",
        "        nn.ReLU(True),\n",
        "        nn.Linear(4096, num_classes)\n",
        "    )\n",
        "    if init_weights:\n",
        "      self.initialize_weights()\n",
        "\n",
        "  def forward(self, x):\n",
        "    x = self.featrues(x)\n",
        "    x = self.avgpool(x)\n",
        "    x = x.view(x.size(0), -1)\n",
        "    x = self.classifier(x)\n",
        "    return x\n",
        "\n",
        "  def initialize_weights(self):\n",
        "    for m in self.modules():\n",
        "      if isinstance(m, nn.Conv2d):\n",
        "        nn.init.kaiming_normal_(m.weight, mode = 'fan_out', nonlinearity='relu')\n",
        "        if m.bias is not None:\n",
        "          nn.init.constant_(m.bias, 0)\n",
        "      elif isinstance(m, nn.BatchNorm2d):\n",
        "        nn.init.constant_(m.weight, 1)\n",
        "        nn.init.constant_(m.bias, 0)\n",
        "      elif isinstance(m, nn.Linear):\n",
        "        nn.init.normal_(m.weight, 0, 0.01)\n",
        "        nn.init.constant_(m.bias, 0)\n",
        "  def make_layers(cfg, batch_norm=False):\n",
        "    layer=[]\n",
        "    in_channels = 3\n",
        "    for v in cfg:\n",
        "      if v == 'M':\n",
        "        layers += [nn.MaxPool2d(kernel_size=2, stride=2)]\n",
        "      else:\n",
        "        conv2d = nn.Conv2d(in_channels, v, kernel_size = 3, padding=1)\n",
        "        if batch_norm:\n",
        "          layers += [conv2d, nn.BatchNorm2d(v), nn.ReLU(inplace=True)]\n",
        "        else:\n",
        "          layers+=[conv2d, nn.ReLU(inplace=True)]\n",
        "\n",
        "        in_channels = v\n",
        "    return nn.Sequential(*layers)\n",
        "\n",
        "  cfgs = {\n",
        "      'A': [64, 'M', 128, 'M', 256, 256, 'M', 512, 512, 'M', 512, 512, 'M'],\n",
        "      'B': [64, 64, 'M', 128, 128, 'M', 256, 256, 'M', 512, 512, 'M', 512, 512, 'M'],\n",
        "      'D': [64, 64, 'M', 128, 128, 'M', 256, 256, 256, 'M', 512, 512, 512, 'M', 512, 512, 512, 'M'],\n",
        "      'E': [64, 64, 'M', 128, 128, 'M', 256, 256, 256, 256, 'M', 512, 512, 512, 512, 'M', 512, 512, 512, 512, 'M']\n",
        "  }"
      ],
      "metadata": {
        "id": "y3_YOLKGCSKO"
      },
      "execution_count": null,
      "outputs": []
    }
  ]
}